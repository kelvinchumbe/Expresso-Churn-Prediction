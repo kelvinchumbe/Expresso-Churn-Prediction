{
  "nbformat": 4,
  "nbformat_minor": 0,
  "metadata": {
    "colab": {
      "name": "Expresso_Churn_Prediction",
      "provenance": []
    },
    "kernelspec": {
      "name": "python3",
      "display_name": "Python 3"
    }
  },
  "cells": [
    {
      "cell_type": "code",
      "metadata": {
        "id": "QBR4wMY5b74N",
        "colab_type": "code",
        "colab": {}
      },
      "source": [
        "# import required dependecies\n",
        "import pandas as pd\n",
        "import numpy as np\n",
        "import matplotlib.pyplot as plt\n",
        "import seaborn as sns\n",
        "sns.set()\n",
        "\n",
        "%matplotlib inline"
      ],
      "execution_count": null,
      "outputs": []
    },
    {
      "cell_type": "code",
      "metadata": {
        "id": "g69KlsuCcMMG",
        "colab_type": "code",
        "colab": {}
      },
      "source": [
        "# Set display options\n",
        "pd.set_option(\"display.max_columns\", 300)\n",
        "pd.set_option(\"display.max_rows\", 300)"
      ],
      "execution_count": null,
      "outputs": []
    },
    {
      "cell_type": "code",
      "metadata": {
        "id": "jvB66tWid48q",
        "colab_type": "code",
        "colab": {}
      },
      "source": [
        ""
      ],
      "execution_count": null,
      "outputs": []
    },
    {
      "cell_type": "markdown",
      "metadata": {
        "id": "Zqe2rxKZeJhD",
        "colab_type": "text"
      },
      "source": [
        "### Column Transformations"
      ]
    },
    {
      "cell_type": "code",
      "metadata": {
        "id": "9Pw5oMHyeHCm",
        "colab_type": "code",
        "colab": {}
      },
      "source": [
        ""
      ],
      "execution_count": null,
      "outputs": []
    },
    {
      "cell_type": "markdown",
      "metadata": {
        "id": "VFSJUA88eswM",
        "colab_type": "text"
      },
      "source": [
        "### Build the Models"
      ]
    },
    {
      "cell_type": "code",
      "metadata": {
        "id": "GvO4nu6Ueu9o",
        "colab_type": "code",
        "colab": {}
      },
      "source": [
        "from sklearn.model_selection import train_test_split\n",
        "\n",
        "X_train, X_test, y_train, y_test = train_test_split(X, y, test_size=0.2, random_state=0)"
      ],
      "execution_count": null,
      "outputs": []
    },
    {
      "cell_type": "code",
      "metadata": {
        "id": "ZgjYpfcHe6_9",
        "colab_type": "code",
        "colab": {}
      },
      "source": [
        "from sklearn.linear_model import LinearRegression\n",
        "from sklearn.linear_model import Ridge\n",
        "from sklearn.tree import DecisionTreeRegressor\n",
        "from sklearn.neighbors import KNeighborsRegressor\n",
        "from sklearn.ensemble import RandomForestRegressor, GradientBoostingRegressor\n",
        "from sklearn.svm import SVR, LinearSVR\n",
        "from sklearn.metrics import log_loss"
      ],
      "execution_count": null,
      "outputs": []
    },
    {
      "cell_type": "code",
      "metadata": {
        "id": "3Ldup3B8rue-",
        "colab_type": "code",
        "colab": {}
      },
      "source": [
        "!"
      ],
      "execution_count": null,
      "outputs": []
    },
    {
      "cell_type": "code",
      "metadata": {
        "id": "TSWJajrkn3Ms",
        "colab_type": "code",
        "colab": {}
      },
      "source": [
        "# Create a scoring function\n",
        "def score_func(y_test, y_preds):\n",
        "  return log_loss(y_test, y_preds)\n"
      ],
      "execution_count": null,
      "outputs": []
    },
    {
      "cell_type": "markdown",
      "metadata": {
        "id": "s3YxEEVEfQ2h",
        "colab_type": "text"
      },
      "source": [
        "##### Linear Regression"
      ]
    },
    {
      "cell_type": "code",
      "metadata": {
        "id": "hLPEoRPafAeJ",
        "colab_type": "code",
        "colab": {}
      },
      "source": [
        "linear_params = {}\n",
        "\n",
        "linear = LinearRegression(linear_params)\n",
        "\n",
        "pipe_linear = Pipeline([(\"linear\", linear)])\n",
        "pipe_linear.fit(X_train, y_train)\n",
        "\n",
        "y_preds = pipe_linear.predict(X_test)\n",
        "\n",
        "print(log_loss(y_test, y_preds))"
      ],
      "execution_count": null,
      "outputs": []
    },
    {
      "cell_type": "markdown",
      "metadata": {
        "id": "qu9FrAL5hPTz",
        "colab_type": "text"
      },
      "source": [
        "##### Ridge"
      ]
    },
    {
      "cell_type": "code",
      "metadata": {
        "id": "I1R--l6dhRs6",
        "colab_type": "code",
        "colab": {}
      },
      "source": [
        "ridge_params = {}\n",
        "\n",
        "ridge = Ridge(ridge_params)\n",
        "\n",
        "pipe_ridge = Pipeline([(\"ridge\", ridge)])\n",
        "pipe_ridge.fit(X_train, y_train)\n",
        "\n",
        "y_preds = pipe_ridge.predict(X_test)\n",
        "\n",
        "print(log_loss(y_test, y_preds))"
      ],
      "execution_count": null,
      "outputs": []
    },
    {
      "cell_type": "markdown",
      "metadata": {
        "id": "MWZbxmWjibfS",
        "colab_type": "text"
      },
      "source": [
        "##### Decision Tree"
      ]
    },
    {
      "cell_type": "code",
      "metadata": {
        "id": "WP3a_CcGieNq",
        "colab_type": "code",
        "colab": {}
      },
      "source": [
        "tree_params = {}\n",
        "\n",
        "tree = DecisionTreeRegressor(tree_params)\n",
        "\n",
        "pipe_tree = Pipeline([(\"tree\", tree)])\n",
        "pipe_tree.fit(X_train, y_train)\n",
        "\n",
        "y_preds = pipe_tree.predict(X_test)\n",
        "\n",
        "print(log_loss(y_test, y_preds))"
      ],
      "execution_count": null,
      "outputs": []
    },
    {
      "cell_type": "markdown",
      "metadata": {
        "id": "KL88xnZzkHEW",
        "colab_type": "text"
      },
      "source": [
        "##### KNN"
      ]
    },
    {
      "cell_type": "code",
      "metadata": {
        "id": "ptI7FVj0kL0j",
        "colab_type": "code",
        "colab": {}
      },
      "source": [
        "knn_params = {}\n",
        "\n",
        "knn = KNeighborsRegressor(knn_params)\n",
        "\n",
        "pipe_knn = Pipeline([(\"knn\", knn)])\n",
        "pipe_knn.fit(X_train, y_train)\n",
        "\n",
        "y_preds = pipe_knn.predict(X_test)\n",
        "\n",
        "print(log_loss(y_test, y_preds))"
      ],
      "execution_count": null,
      "outputs": []
    },
    {
      "cell_type": "markdown",
      "metadata": {
        "id": "x1bQdrxwlaAa",
        "colab_type": "text"
      },
      "source": [
        "##### Random Forest"
      ]
    },
    {
      "cell_type": "code",
      "metadata": {
        "id": "-MtaKtZ4lcsX",
        "colab_type": "code",
        "colab": {}
      },
      "source": [
        "forest_params = {}\n",
        "\n",
        "forest = RandomForestRegressor(forest_params)\n",
        "\n",
        "pipe_forest = Pipeline([(\"forest\", forest)])\n",
        "pipe_forest.fit(X_train, y_train)\n",
        "\n",
        "y_preds = pipe_forest.predict(X_test)\n",
        "\n",
        "print(log_loss(y_test, y_preds))"
      ],
      "execution_count": null,
      "outputs": []
    },
    {
      "cell_type": "markdown",
      "metadata": {
        "id": "LjGOH-BOmsSG",
        "colab_type": "text"
      },
      "source": [
        "##### Gradient Boosting"
      ]
    },
    {
      "cell_type": "code",
      "metadata": {
        "id": "rt0zQKvTmwX6",
        "colab_type": "code",
        "colab": {}
      },
      "source": [
        "gboost_params = {}\n",
        "\n",
        "gboost = GradientBoostingRegressor(gboost_params)\n",
        "\n",
        "pipe_gboost = Pipeline([(\"gboost\", gboost)])\n",
        "pipe_gboost.fit(X_train, y_train)\n",
        "\n",
        "y_preds = pipe_gboost.predict(X_test)\n",
        "\n",
        "print(log_loss(y_test, y_preds))"
      ],
      "execution_count": null,
      "outputs": []
    },
    {
      "cell_type": "markdown",
      "metadata": {
        "id": "spdIflSjndIW",
        "colab_type": "text"
      },
      "source": [
        "##### SVR"
      ]
    },
    {
      "cell_type": "code",
      "metadata": {
        "id": "Nj3d9nXynezm",
        "colab_type": "code",
        "colab": {}
      },
      "source": [
        "svr_params = {}\n",
        "\n",
        "svr = SVR(svr_params)\n",
        "\n",
        "pipe_svr = Pipeline([(\"svr\", svr)])\n",
        "pipe_svr.fit(X_train, y_train)\n",
        "\n",
        "y_preds = pipe_svr.predict(X_test)\n",
        "\n",
        "print(log_loss(y_test, y_preds))"
      ],
      "execution_count": null,
      "outputs": []
    },
    {
      "cell_type": "markdown",
      "metadata": {
        "id": "M1bNzwhGqTBS",
        "colab_type": "text"
      },
      "source": [
        "##### Linear SVR"
      ]
    },
    {
      "cell_type": "code",
      "metadata": {
        "id": "u-EblEznqYLP",
        "colab_type": "code",
        "colab": {}
      },
      "source": [
        "lsvr_params = {}\n",
        "\n",
        "lsvr = LinearSVR(lsvr_params)\n",
        "\n",
        "pipe_lsvr = Pipeline([(\"lsvr\", lsvr)])\n",
        "pipe_lsvr.fit(X_train, y_train)\n",
        "\n",
        "y_preds = pipe_lsvr.predict(X_test)\n",
        "\n",
        "print(log_loss(y_test, y_preds))"
      ],
      "execution_count": null,
      "outputs": []
    },
    {
      "cell_type": "markdown",
      "metadata": {
        "id": "zCxJ9hU-rG4D",
        "colab_type": "text"
      },
      "source": [
        ""
      ]
    }
  ]
}