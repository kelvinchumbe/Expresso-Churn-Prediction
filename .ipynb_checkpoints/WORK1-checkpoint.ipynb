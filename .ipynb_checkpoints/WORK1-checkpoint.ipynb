{
 "cells": [
  {
   "cell_type": "markdown",
   "metadata": {
    "colab_type": "text",
    "id": "dY0xAw-t8DSC"
   },
   "source": [
    "##### Author: [Juste Nyirimana](https://www.linkedin.com/in/juste-nyirimana-25a534144/)"
   ]
  },
  {
   "cell_type": "code",
   "execution_count": 4,
   "metadata": {
    "colab": {},
    "colab_type": "code",
    "id": "d_ETc2b-9Dhd"
   },
   "outputs": [],
   "source": [
    "# from google.colab import drive\n",
    "# drive.mount('/content/drive')"
   ]
  },
  {
   "cell_type": "markdown",
   "metadata": {
    "colab_type": "text",
    "id": "zxi4xvHL8DSE"
   },
   "source": [
    "# UmojaHack Rwanda: Expresso Churn Prediction Challenge"
   ]
  },
  {
   "cell_type": "markdown",
   "metadata": {
    "colab_type": "text",
    "id": "nKuPHKtb8DSF"
   },
   "source": [
    "When customers leave, this can be very costly for the company, thus firms are interested in predicting churn beforehand. Having that information in hand can help companies change their strategy to retain customers."
   ]
  },
  {
   "cell_type": "markdown",
   "metadata": {
    "colab_type": "text",
    "id": "k0F5P6nU8DSI"
   },
   "source": [
    "In this starter notebook, we'll walk through the competition. We will show you how to load the data and do a quick exploratory analysis. Then, we will train a simple model, make some predictions, and then submit those predictions to the competition."
   ]
  },
  {
   "cell_type": "markdown",
   "metadata": {
    "colab_type": "text",
    "id": "AxxVbb-E8DSK"
   },
   "source": [
    "The data we have describes 2.5 million [Expresso](https://www.expressotelecom.sn/) clients. Expresso is an African telecommunications services company that provides telecommunication services in five African markets: Mauritania, Senegal, Guinea, and Ghana. Expresso offers a wide range of products and services to meet the needs of customers.\n",
    "\n",
    "The objective of this hackathon is to develop a predictive model that determines the likelihood for a customer to churn - to stop purchasing airtime and data from Expresso. Let's dig in!"
   ]
  },
  {
   "cell_type": "markdown",
   "metadata": {
    "colab_type": "text",
    "id": "Uih3OLvK8DSL"
   },
   "source": [
    "## Table of Contents:\n",
    "&nbsp;&nbsp;1. [LOADING THE DATA](#1)\n",
    "   \n",
    "&nbsp;&nbsp;2. [EXPLORING THE DATA](#2)   \n",
    "\n",
    "&nbsp;&nbsp;3. [BUILDING SOME MODELS](#3)   \n",
    "\n",
    "&nbsp;&nbsp;4. [GENERATING THE PREDICTIONS FOR THE TEST SET](#4)"
   ]
  },
  {
   "cell_type": "markdown",
   "metadata": {
    "colab_type": "text",
    "id": "85QZJ0EE8DSM"
   },
   "source": [
    "# LOADING THE DATA"
   ]
  },
  {
   "cell_type": "markdown",
   "metadata": {
    "colab_type": "text",
    "id": "s9lDlflI8DSN"
   },
   "source": [
    "On the [data description page](https://zindi.africa/hackathons/umojahack-rwanda-expresso-churn-prediction-challenge/data), we are provided with everything we need to get started:\n",
    "\n",
    "Train.csv: this is what you will use to train your model.\n",
    "\n",
    "Test.csv: this is what you will test your model on.\n",
    "\n",
    "SampleSubmission.csv: This file serves as an example for how to format your submission.\n",
    "\n",
    "Let's start by importing the libraries that we will need to load and explore the data."
   ]
  },
  {
   "cell_type": "code",
   "execution_count": 1,
   "metadata": {
    "colab": {},
    "colab_type": "code",
    "id": "t3POcpB08DSO"
   },
   "outputs": [],
   "source": [
    "##importing packages\n",
    "import pandas as pd \n",
    "%matplotlib inline\n",
    "import matplotlib.pyplot as plt\n",
    "import matplotlib\n",
    "import seaborn as sns\n",
    "sns.set()\n",
    "\n",
    "import numpy as np\n",
    "# import missingno as msno"
   ]
  },
  {
   "cell_type": "markdown",
   "metadata": {
    "colab_type": "text",
    "id": "JEq3BbLi8DSW"
   },
   "source": [
    "Next, we can load the datasets and begin taking a look."
   ]
  },
  {
   "cell_type": "code",
   "execution_count": 2,
   "metadata": {
    "colab": {},
    "colab_type": "code",
    "id": "wMw8s-mH8DSX"
   },
   "outputs": [],
   "source": [
    "#reading in the data\n",
    "train = pd.read_csv('Train.csv')\n",
    "test = pd.read_csv('Test.csv')"
   ]
  },
  {
   "cell_type": "code",
   "execution_count": 3,
   "metadata": {
    "colab": {},
    "colab_type": "code",
    "id": "dnUvRtqd8DSd"
   },
   "outputs": [
    {
     "data": {
      "text/html": [
       "<div>\n",
       "<style scoped>\n",
       "    .dataframe tbody tr th:only-of-type {\n",
       "        vertical-align: middle;\n",
       "    }\n",
       "\n",
       "    .dataframe tbody tr th {\n",
       "        vertical-align: top;\n",
       "    }\n",
       "\n",
       "    .dataframe thead th {\n",
       "        text-align: right;\n",
       "    }\n",
       "</style>\n",
       "<table border=\"1\" class=\"dataframe\">\n",
       "  <thead>\n",
       "    <tr style=\"text-align: right;\">\n",
       "      <th></th>\n",
       "      <th>user_id</th>\n",
       "      <th>REGION</th>\n",
       "      <th>TENURE</th>\n",
       "      <th>MONTANT</th>\n",
       "      <th>FREQUENCE_RECH</th>\n",
       "      <th>REVENUE</th>\n",
       "      <th>ARPU_SEGMENT</th>\n",
       "      <th>FREQUENCE</th>\n",
       "      <th>DATA_VOLUME</th>\n",
       "      <th>ON_NET</th>\n",
       "      <th>ORANGE</th>\n",
       "      <th>TIGO</th>\n",
       "      <th>ZONE1</th>\n",
       "      <th>ZONE2</th>\n",
       "      <th>MRG</th>\n",
       "      <th>REGULARITY</th>\n",
       "      <th>TOP_PACK</th>\n",
       "      <th>FREQ_TOP_PACK</th>\n",
       "      <th>CHURN</th>\n",
       "    </tr>\n",
       "  </thead>\n",
       "  <tbody>\n",
       "    <tr>\n",
       "      <th>0</th>\n",
       "      <td>00000bfd7d50f01092811bc0c8d7b0d6fe7c3596</td>\n",
       "      <td>FATICK</td>\n",
       "      <td>K &gt; 24 month</td>\n",
       "      <td>4250.0</td>\n",
       "      <td>15.0</td>\n",
       "      <td>4251.0</td>\n",
       "      <td>1417.0</td>\n",
       "      <td>17.0</td>\n",
       "      <td>4.0</td>\n",
       "      <td>388.0</td>\n",
       "      <td>46.0</td>\n",
       "      <td>1.0</td>\n",
       "      <td>1.0</td>\n",
       "      <td>2.0</td>\n",
       "      <td>NO</td>\n",
       "      <td>54</td>\n",
       "      <td>On net 200F=Unlimited _call24H</td>\n",
       "      <td>8.0</td>\n",
       "      <td>0</td>\n",
       "    </tr>\n",
       "    <tr>\n",
       "      <th>1</th>\n",
       "      <td>00000cb4a5d760de88fecb38e2f71b7bec52e834</td>\n",
       "      <td>NaN</td>\n",
       "      <td>I 18-21 month</td>\n",
       "      <td>NaN</td>\n",
       "      <td>NaN</td>\n",
       "      <td>NaN</td>\n",
       "      <td>NaN</td>\n",
       "      <td>NaN</td>\n",
       "      <td>NaN</td>\n",
       "      <td>NaN</td>\n",
       "      <td>NaN</td>\n",
       "      <td>NaN</td>\n",
       "      <td>NaN</td>\n",
       "      <td>NaN</td>\n",
       "      <td>NO</td>\n",
       "      <td>4</td>\n",
       "      <td>NaN</td>\n",
       "      <td>NaN</td>\n",
       "      <td>1</td>\n",
       "    </tr>\n",
       "    <tr>\n",
       "      <th>2</th>\n",
       "      <td>00001654a9d9f96303d9969d0a4a851714a4bb57</td>\n",
       "      <td>NaN</td>\n",
       "      <td>K &gt; 24 month</td>\n",
       "      <td>3600.0</td>\n",
       "      <td>2.0</td>\n",
       "      <td>1020.0</td>\n",
       "      <td>340.0</td>\n",
       "      <td>2.0</td>\n",
       "      <td>NaN</td>\n",
       "      <td>90.0</td>\n",
       "      <td>46.0</td>\n",
       "      <td>7.0</td>\n",
       "      <td>NaN</td>\n",
       "      <td>NaN</td>\n",
       "      <td>NO</td>\n",
       "      <td>17</td>\n",
       "      <td>On-net 1000F=10MilF;10d</td>\n",
       "      <td>1.0</td>\n",
       "      <td>0</td>\n",
       "    </tr>\n",
       "    <tr>\n",
       "      <th>3</th>\n",
       "      <td>00001dd6fa45f7ba044bd5d84937be464ce78ac2</td>\n",
       "      <td>DAKAR</td>\n",
       "      <td>K &gt; 24 month</td>\n",
       "      <td>13500.0</td>\n",
       "      <td>15.0</td>\n",
       "      <td>13502.0</td>\n",
       "      <td>4501.0</td>\n",
       "      <td>18.0</td>\n",
       "      <td>43804.0</td>\n",
       "      <td>41.0</td>\n",
       "      <td>102.0</td>\n",
       "      <td>2.0</td>\n",
       "      <td>NaN</td>\n",
       "      <td>NaN</td>\n",
       "      <td>NO</td>\n",
       "      <td>62</td>\n",
       "      <td>Data:1000F=5GB,7d</td>\n",
       "      <td>11.0</td>\n",
       "      <td>0</td>\n",
       "    </tr>\n",
       "    <tr>\n",
       "      <th>4</th>\n",
       "      <td>000028d9e13a595abe061f9b58f3d76ab907850f</td>\n",
       "      <td>DAKAR</td>\n",
       "      <td>K &gt; 24 month</td>\n",
       "      <td>1000.0</td>\n",
       "      <td>1.0</td>\n",
       "      <td>985.0</td>\n",
       "      <td>328.0</td>\n",
       "      <td>1.0</td>\n",
       "      <td>NaN</td>\n",
       "      <td>39.0</td>\n",
       "      <td>24.0</td>\n",
       "      <td>NaN</td>\n",
       "      <td>NaN</td>\n",
       "      <td>NaN</td>\n",
       "      <td>NO</td>\n",
       "      <td>11</td>\n",
       "      <td>Mixt 250F=Unlimited_call24H</td>\n",
       "      <td>2.0</td>\n",
       "      <td>0</td>\n",
       "    </tr>\n",
       "  </tbody>\n",
       "</table>\n",
       "</div>"
      ],
      "text/plain": [
       "                                    user_id  REGION         TENURE  MONTANT  \\\n",
       "0  00000bfd7d50f01092811bc0c8d7b0d6fe7c3596  FATICK   K > 24 month   4250.0   \n",
       "1  00000cb4a5d760de88fecb38e2f71b7bec52e834     NaN  I 18-21 month      NaN   \n",
       "2  00001654a9d9f96303d9969d0a4a851714a4bb57     NaN   K > 24 month   3600.0   \n",
       "3  00001dd6fa45f7ba044bd5d84937be464ce78ac2   DAKAR   K > 24 month  13500.0   \n",
       "4  000028d9e13a595abe061f9b58f3d76ab907850f   DAKAR   K > 24 month   1000.0   \n",
       "\n",
       "   FREQUENCE_RECH  REVENUE  ARPU_SEGMENT  FREQUENCE  DATA_VOLUME  ON_NET  \\\n",
       "0            15.0   4251.0        1417.0       17.0          4.0   388.0   \n",
       "1             NaN      NaN           NaN        NaN          NaN     NaN   \n",
       "2             2.0   1020.0         340.0        2.0          NaN    90.0   \n",
       "3            15.0  13502.0        4501.0       18.0      43804.0    41.0   \n",
       "4             1.0    985.0         328.0        1.0          NaN    39.0   \n",
       "\n",
       "   ORANGE  TIGO  ZONE1  ZONE2 MRG  REGULARITY                        TOP_PACK  \\\n",
       "0    46.0   1.0    1.0    2.0  NO          54  On net 200F=Unlimited _call24H   \n",
       "1     NaN   NaN    NaN    NaN  NO           4                             NaN   \n",
       "2    46.0   7.0    NaN    NaN  NO          17         On-net 1000F=10MilF;10d   \n",
       "3   102.0   2.0    NaN    NaN  NO          62               Data:1000F=5GB,7d   \n",
       "4    24.0   NaN    NaN    NaN  NO          11     Mixt 250F=Unlimited_call24H   \n",
       "\n",
       "   FREQ_TOP_PACK  CHURN  \n",
       "0            8.0      0  \n",
       "1            NaN      1  \n",
       "2            1.0      0  \n",
       "3           11.0      0  \n",
       "4            2.0      0  "
      ]
     },
     "execution_count": 3,
     "metadata": {},
     "output_type": "execute_result"
    }
   ],
   "source": [
    "train.head()"
   ]
  },
  {
   "cell_type": "markdown",
   "metadata": {
    "colab_type": "text",
    "id": "XUcz9m9oJ5tL"
   },
   "source": [
    "##### Rename columns for easier identification"
   ]
  },
  {
   "cell_type": "code",
   "execution_count": 4,
   "metadata": {
    "colab": {},
    "colab_type": "code",
    "id": "E4GclBSPHsxX"
   },
   "outputs": [],
   "source": [
    "def rename_cols(df):\n",
    "      df.rename(columns={\"MONTANT\": \"TOPUP_AMT\",\n",
    "                      \"ARPU_SEGMENT\": \"MONTHLY_INCOME\",\n",
    "                      \"REVENUE\": \"TOTAL_INCOME\",\n",
    "                      \"FREQUENCE_RECH\": \"RECHARGE_FREQ\",\n",
    "                      \"FREQUENCY\": \"INCOME_FREQ\",\n",
    "                      \"DATA_VOLUME\": \"NO_OF_CONNECTIONS\",\n",
    "                      }, inplace=True)\n",
    "  \n",
    "      return df"
   ]
  },
  {
   "cell_type": "code",
   "execution_count": 5,
   "metadata": {
    "colab": {},
    "colab_type": "code",
    "id": "pFEPJkf3KBK7"
   },
   "outputs": [],
   "source": [
    "train = rename_cols(train)\n",
    "test = rename_cols(test)"
   ]
  },
  {
   "cell_type": "code",
   "execution_count": 6,
   "metadata": {
    "colab": {},
    "colab_type": "code",
    "id": "AnpLSLJPKH8h"
   },
   "outputs": [
    {
     "data": {
      "text/html": [
       "<div>\n",
       "<style scoped>\n",
       "    .dataframe tbody tr th:only-of-type {\n",
       "        vertical-align: middle;\n",
       "    }\n",
       "\n",
       "    .dataframe tbody tr th {\n",
       "        vertical-align: top;\n",
       "    }\n",
       "\n",
       "    .dataframe thead th {\n",
       "        text-align: right;\n",
       "    }\n",
       "</style>\n",
       "<table border=\"1\" class=\"dataframe\">\n",
       "  <thead>\n",
       "    <tr style=\"text-align: right;\">\n",
       "      <th></th>\n",
       "      <th>user_id</th>\n",
       "      <th>REGION</th>\n",
       "      <th>TENURE</th>\n",
       "      <th>TOPUP_AMT</th>\n",
       "      <th>RECHARGE_FREQ</th>\n",
       "      <th>TOTAL_INCOME</th>\n",
       "      <th>MONTHLY_INCOME</th>\n",
       "      <th>FREQUENCE</th>\n",
       "      <th>NO_OF_CONNECTIONS</th>\n",
       "      <th>ON_NET</th>\n",
       "      <th>ORANGE</th>\n",
       "      <th>TIGO</th>\n",
       "      <th>ZONE1</th>\n",
       "      <th>ZONE2</th>\n",
       "      <th>MRG</th>\n",
       "      <th>REGULARITY</th>\n",
       "      <th>TOP_PACK</th>\n",
       "      <th>FREQ_TOP_PACK</th>\n",
       "      <th>CHURN</th>\n",
       "    </tr>\n",
       "  </thead>\n",
       "  <tbody>\n",
       "    <tr>\n",
       "      <th>0</th>\n",
       "      <td>00000bfd7d50f01092811bc0c8d7b0d6fe7c3596</td>\n",
       "      <td>FATICK</td>\n",
       "      <td>K &gt; 24 month</td>\n",
       "      <td>4250.0</td>\n",
       "      <td>15.0</td>\n",
       "      <td>4251.0</td>\n",
       "      <td>1417.0</td>\n",
       "      <td>17.0</td>\n",
       "      <td>4.0</td>\n",
       "      <td>388.0</td>\n",
       "      <td>46.0</td>\n",
       "      <td>1.0</td>\n",
       "      <td>1.0</td>\n",
       "      <td>2.0</td>\n",
       "      <td>NO</td>\n",
       "      <td>54</td>\n",
       "      <td>On net 200F=Unlimited _call24H</td>\n",
       "      <td>8.0</td>\n",
       "      <td>0</td>\n",
       "    </tr>\n",
       "  </tbody>\n",
       "</table>\n",
       "</div>"
      ],
      "text/plain": [
       "                                    user_id  REGION        TENURE  TOPUP_AMT  \\\n",
       "0  00000bfd7d50f01092811bc0c8d7b0d6fe7c3596  FATICK  K > 24 month     4250.0   \n",
       "\n",
       "   RECHARGE_FREQ  TOTAL_INCOME  MONTHLY_INCOME  FREQUENCE  NO_OF_CONNECTIONS  \\\n",
       "0           15.0        4251.0          1417.0       17.0                4.0   \n",
       "\n",
       "   ON_NET  ORANGE  TIGO  ZONE1  ZONE2 MRG  REGULARITY  \\\n",
       "0   388.0    46.0   1.0    1.0    2.0  NO          54   \n",
       "\n",
       "                         TOP_PACK  FREQ_TOP_PACK  CHURN  \n",
       "0  On net 200F=Unlimited _call24H            8.0      0  "
      ]
     },
     "execution_count": 6,
     "metadata": {},
     "output_type": "execute_result"
    }
   ],
   "source": [
    "train.head(1)"
   ]
  },
  {
   "cell_type": "markdown",
   "metadata": {
    "colab_type": "text",
    "id": "mbKKXO8f8DSz"
   },
   "source": [
    "Each row is/was an expresso client. The columns are the different attributes of the customers. "
   ]
  },
  {
   "cell_type": "code",
   "execution_count": 7,
   "metadata": {
    "colab": {},
    "colab_type": "code",
    "id": "qP1KHtOO8DS0",
    "scrolled": true
   },
   "outputs": [
    {
     "name": "stdout",
     "output_type": "stream",
     "text": [
      "<class 'pandas.core.frame.DataFrame'>\n",
      "RangeIndex: 2154048 entries, 0 to 2154047\n",
      "Data columns (total 19 columns):\n",
      "user_id              object\n",
      "REGION               object\n",
      "TENURE               object\n",
      "TOPUP_AMT            float64\n",
      "RECHARGE_FREQ        float64\n",
      "TOTAL_INCOME         float64\n",
      "MONTHLY_INCOME       float64\n",
      "FREQUENCE            float64\n",
      "NO_OF_CONNECTIONS    float64\n",
      "ON_NET               float64\n",
      "ORANGE               float64\n",
      "TIGO                 float64\n",
      "ZONE1                float64\n",
      "ZONE2                float64\n",
      "MRG                  object\n",
      "REGULARITY           int64\n",
      "TOP_PACK             object\n",
      "FREQ_TOP_PACK        float64\n",
      "CHURN                int64\n",
      "dtypes: float64(12), int64(2), object(5)\n",
      "memory usage: 312.2+ MB\n"
     ]
    }
   ],
   "source": [
    "train.info() #quite the data"
   ]
  },
  {
   "cell_type": "markdown",
   "metadata": {
    "colab_type": "text",
    "id": "lzI0NvhW8DS-"
   },
   "source": [
    "There are more than 2M customers in the training set."
   ]
  },
  {
   "cell_type": "code",
   "execution_count": 8,
   "metadata": {
    "colab": {},
    "colab_type": "code",
    "id": "2tv0mUzSKy9E"
   },
   "outputs": [
    {
     "data": {
      "text/plain": [
       "((2154048, 19), (380127, 18))"
      ]
     },
     "execution_count": 8,
     "metadata": {},
     "output_type": "execute_result"
    }
   ],
   "source": [
    "train.shape, test.shape"
   ]
  },
  {
   "cell_type": "code",
   "execution_count": 9,
   "metadata": {
    "colab": {},
    "colab_type": "code",
    "id": "Oy00Y81S8DTA"
   },
   "outputs": [
    {
     "data": {
      "text/html": [
       "<div>\n",
       "<style scoped>\n",
       "    .dataframe tbody tr th:only-of-type {\n",
       "        vertical-align: middle;\n",
       "    }\n",
       "\n",
       "    .dataframe tbody tr th {\n",
       "        vertical-align: top;\n",
       "    }\n",
       "\n",
       "    .dataframe thead th {\n",
       "        text-align: right;\n",
       "    }\n",
       "</style>\n",
       "<table border=\"1\" class=\"dataframe\">\n",
       "  <thead>\n",
       "    <tr style=\"text-align: right;\">\n",
       "      <th></th>\n",
       "      <th>user_id</th>\n",
       "      <th>REGION</th>\n",
       "      <th>TENURE</th>\n",
       "      <th>TOPUP_AMT</th>\n",
       "      <th>RECHARGE_FREQ</th>\n",
       "      <th>TOTAL_INCOME</th>\n",
       "      <th>MONTHLY_INCOME</th>\n",
       "      <th>FREQUENCE</th>\n",
       "      <th>NO_OF_CONNECTIONS</th>\n",
       "      <th>ON_NET</th>\n",
       "      <th>ORANGE</th>\n",
       "      <th>TIGO</th>\n",
       "      <th>ZONE1</th>\n",
       "      <th>ZONE2</th>\n",
       "      <th>MRG</th>\n",
       "      <th>REGULARITY</th>\n",
       "      <th>TOP_PACK</th>\n",
       "      <th>FREQ_TOP_PACK</th>\n",
       "    </tr>\n",
       "  </thead>\n",
       "  <tbody>\n",
       "    <tr>\n",
       "      <th>0</th>\n",
       "      <td>00001dbe00e56fc4b1c1b65dda63de2a5ece55f9</td>\n",
       "      <td>THIES</td>\n",
       "      <td>K &gt; 24 month</td>\n",
       "      <td>5000.0</td>\n",
       "      <td>5.0</td>\n",
       "      <td>5000.0</td>\n",
       "      <td>1667.0</td>\n",
       "      <td>5.0</td>\n",
       "      <td>NaN</td>\n",
       "      <td>378.0</td>\n",
       "      <td>11.0</td>\n",
       "      <td>5.0</td>\n",
       "      <td>NaN</td>\n",
       "      <td>NaN</td>\n",
       "      <td>NO</td>\n",
       "      <td>42</td>\n",
       "      <td>On-net 1000F=10MilF;10d</td>\n",
       "      <td>5.0</td>\n",
       "    </tr>\n",
       "    <tr>\n",
       "      <th>1</th>\n",
       "      <td>000055d41c8a62052dd426592e8a4a3342bf565d</td>\n",
       "      <td>NaN</td>\n",
       "      <td>I 18-21 month</td>\n",
       "      <td>300.0</td>\n",
       "      <td>2.0</td>\n",
       "      <td>326.0</td>\n",
       "      <td>109.0</td>\n",
       "      <td>3.0</td>\n",
       "      <td>397.0</td>\n",
       "      <td>NaN</td>\n",
       "      <td>0.0</td>\n",
       "      <td>NaN</td>\n",
       "      <td>NaN</td>\n",
       "      <td>NaN</td>\n",
       "      <td>NO</td>\n",
       "      <td>41</td>\n",
       "      <td>Data: 100 F=40MB,24H</td>\n",
       "      <td>1.0</td>\n",
       "    </tr>\n",
       "  </tbody>\n",
       "</table>\n",
       "</div>"
      ],
      "text/plain": [
       "                                    user_id REGION         TENURE  TOPUP_AMT  \\\n",
       "0  00001dbe00e56fc4b1c1b65dda63de2a5ece55f9  THIES   K > 24 month     5000.0   \n",
       "1  000055d41c8a62052dd426592e8a4a3342bf565d    NaN  I 18-21 month      300.0   \n",
       "\n",
       "   RECHARGE_FREQ  TOTAL_INCOME  MONTHLY_INCOME  FREQUENCE  NO_OF_CONNECTIONS  \\\n",
       "0            5.0        5000.0          1667.0        5.0                NaN   \n",
       "1            2.0         326.0           109.0        3.0              397.0   \n",
       "\n",
       "   ON_NET  ORANGE  TIGO  ZONE1  ZONE2 MRG  REGULARITY  \\\n",
       "0   378.0    11.0   5.0    NaN    NaN  NO          42   \n",
       "1     NaN     0.0   NaN    NaN    NaN  NO          41   \n",
       "\n",
       "                  TOP_PACK  FREQ_TOP_PACK  \n",
       "0  On-net 1000F=10MilF;10d            5.0  \n",
       "1     Data: 100 F=40MB,24H            1.0  "
      ]
     },
     "execution_count": 9,
     "metadata": {},
     "output_type": "execute_result"
    }
   ],
   "source": [
    "test.head(2)"
   ]
  },
  {
   "cell_type": "code",
   "execution_count": 10,
   "metadata": {
    "colab": {},
    "colab_type": "code",
    "id": "ldIuTEV-8DTH"
   },
   "outputs": [
    {
     "name": "stdout",
     "output_type": "stream",
     "text": [
      "<class 'pandas.core.frame.DataFrame'>\n",
      "RangeIndex: 380127 entries, 0 to 380126\n",
      "Data columns (total 18 columns):\n",
      "user_id              380127 non-null object\n",
      "REGION               230399 non-null object\n",
      "TENURE               380127 non-null object\n",
      "TOPUP_AMT            247072 non-null float64\n",
      "RECHARGE_FREQ        247072 non-null float64\n",
      "TOTAL_INCOME         252754 non-null float64\n",
      "MONTHLY_INCOME       252754 non-null float64\n",
      "FREQUENCE            252754 non-null float64\n",
      "NO_OF_CONNECTIONS    193087 non-null float64\n",
      "ON_NET               241613 non-null float64\n",
      "ORANGE               222897 non-null float64\n",
      "TIGO                 153126 non-null float64\n",
      "ZONE1                29861 non-null float64\n",
      "ZONE2                24076 non-null float64\n",
      "MRG                  380127 non-null object\n",
      "REGULARITY           380127 non-null int64\n",
      "TOP_PACK             221348 non-null object\n",
      "FREQ_TOP_PACK        221348 non-null float64\n",
      "dtypes: float64(12), int64(1), object(5)\n",
      "memory usage: 52.2+ MB\n"
     ]
    }
   ],
   "source": [
    "test.info()"
   ]
  },
  {
   "cell_type": "code",
   "execution_count": 11,
   "metadata": {
    "colab": {},
    "colab_type": "code",
    "id": "WekrWxCm_soO"
   },
   "outputs": [
    {
     "data": {
      "text/plain": [
       "user_id              2154048\n",
       "REGION               2154048\n",
       "TENURE               2154048\n",
       "TOPUP_AMT            2154048\n",
       "RECHARGE_FREQ        2154048\n",
       "TOTAL_INCOME         2154048\n",
       "MONTHLY_INCOME       2154048\n",
       "FREQUENCE            2154048\n",
       "NO_OF_CONNECTIONS    2154048\n",
       "ON_NET               2154048\n",
       "ORANGE               2154048\n",
       "TIGO                 2154048\n",
       "ZONE1                2154048\n",
       "ZONE2                2154048\n",
       "MRG                  2154048\n",
       "REGULARITY           2154048\n",
       "TOP_PACK             2154048\n",
       "FREQ_TOP_PACK        2154048\n",
       "CHURN                2154048\n",
       "dtype: int64"
      ]
     },
     "execution_count": 11,
     "metadata": {},
     "output_type": "execute_result"
    }
   ],
   "source": [
    "train.isnull().count()"
   ]
  },
  {
   "cell_type": "code",
   "execution_count": 12,
   "metadata": {
    "colab": {},
    "colab_type": "code",
    "id": "UgwXLNUd8DTQ"
   },
   "outputs": [
    {
     "data": {
      "text/html": [
       "<div>\n",
       "<style scoped>\n",
       "    .dataframe tbody tr th:only-of-type {\n",
       "        vertical-align: middle;\n",
       "    }\n",
       "\n",
       "    .dataframe tbody tr th {\n",
       "        vertical-align: top;\n",
       "    }\n",
       "\n",
       "    .dataframe thead th {\n",
       "        text-align: right;\n",
       "    }\n",
       "</style>\n",
       "<table border=\"1\" class=\"dataframe\">\n",
       "  <thead>\n",
       "    <tr style=\"text-align: right;\">\n",
       "      <th></th>\n",
       "      <th>Total</th>\n",
       "      <th>Percent</th>\n",
       "    </tr>\n",
       "  </thead>\n",
       "  <tbody>\n",
       "    <tr>\n",
       "      <th>ZONE2</th>\n",
       "      <td>2017224</td>\n",
       "      <td>0.936481</td>\n",
       "    </tr>\n",
       "    <tr>\n",
       "      <th>ZONE1</th>\n",
       "      <td>1984327</td>\n",
       "      <td>0.921208</td>\n",
       "    </tr>\n",
       "    <tr>\n",
       "      <th>TIGO</th>\n",
       "      <td>1290016</td>\n",
       "      <td>0.598880</td>\n",
       "    </tr>\n",
       "    <tr>\n",
       "      <th>NO_OF_CONNECTIONS</th>\n",
       "      <td>1060433</td>\n",
       "      <td>0.492298</td>\n",
       "    </tr>\n",
       "    <tr>\n",
       "      <th>TOP_PACK</th>\n",
       "      <td>902594</td>\n",
       "      <td>0.419022</td>\n",
       "    </tr>\n",
       "    <tr>\n",
       "      <th>FREQ_TOP_PACK</th>\n",
       "      <td>902594</td>\n",
       "      <td>0.419022</td>\n",
       "    </tr>\n",
       "    <tr>\n",
       "      <th>ORANGE</th>\n",
       "      <td>895248</td>\n",
       "      <td>0.415612</td>\n",
       "    </tr>\n",
       "    <tr>\n",
       "      <th>REGION</th>\n",
       "      <td>849299</td>\n",
       "      <td>0.394280</td>\n",
       "    </tr>\n",
       "    <tr>\n",
       "      <th>ON_NET</th>\n",
       "      <td>786675</td>\n",
       "      <td>0.365208</td>\n",
       "    </tr>\n",
       "    <tr>\n",
       "      <th>TOPUP_AMT</th>\n",
       "      <td>756739</td>\n",
       "      <td>0.351310</td>\n",
       "    </tr>\n",
       "    <tr>\n",
       "      <th>RECHARGE_FREQ</th>\n",
       "      <td>756739</td>\n",
       "      <td>0.351310</td>\n",
       "    </tr>\n",
       "    <tr>\n",
       "      <th>FREQUENCE</th>\n",
       "      <td>726048</td>\n",
       "      <td>0.337062</td>\n",
       "    </tr>\n",
       "    <tr>\n",
       "      <th>MONTHLY_INCOME</th>\n",
       "      <td>726048</td>\n",
       "      <td>0.337062</td>\n",
       "    </tr>\n",
       "    <tr>\n",
       "      <th>TOTAL_INCOME</th>\n",
       "      <td>726048</td>\n",
       "      <td>0.337062</td>\n",
       "    </tr>\n",
       "    <tr>\n",
       "      <th>TENURE</th>\n",
       "      <td>0</td>\n",
       "      <td>0.000000</td>\n",
       "    </tr>\n",
       "    <tr>\n",
       "      <th>CHURN</th>\n",
       "      <td>0</td>\n",
       "      <td>0.000000</td>\n",
       "    </tr>\n",
       "    <tr>\n",
       "      <th>MRG</th>\n",
       "      <td>0</td>\n",
       "      <td>0.000000</td>\n",
       "    </tr>\n",
       "    <tr>\n",
       "      <th>REGULARITY</th>\n",
       "      <td>0</td>\n",
       "      <td>0.000000</td>\n",
       "    </tr>\n",
       "    <tr>\n",
       "      <th>user_id</th>\n",
       "      <td>0</td>\n",
       "      <td>0.000000</td>\n",
       "    </tr>\n",
       "  </tbody>\n",
       "</table>\n",
       "</div>"
      ],
      "text/plain": [
       "                     Total   Percent\n",
       "ZONE2              2017224  0.936481\n",
       "ZONE1              1984327  0.921208\n",
       "TIGO               1290016  0.598880\n",
       "NO_OF_CONNECTIONS  1060433  0.492298\n",
       "TOP_PACK            902594  0.419022\n",
       "FREQ_TOP_PACK       902594  0.419022\n",
       "ORANGE              895248  0.415612\n",
       "REGION              849299  0.394280\n",
       "ON_NET              786675  0.365208\n",
       "TOPUP_AMT           756739  0.351310\n",
       "RECHARGE_FREQ       756739  0.351310\n",
       "FREQUENCE           726048  0.337062\n",
       "MONTHLY_INCOME      726048  0.337062\n",
       "TOTAL_INCOME        726048  0.337062\n",
       "TENURE                   0  0.000000\n",
       "CHURN                    0  0.000000\n",
       "MRG                      0  0.000000\n",
       "REGULARITY               0  0.000000\n",
       "user_id                  0  0.000000"
      ]
     },
     "execution_count": 12,
     "metadata": {},
     "output_type": "execute_result"
    }
   ],
   "source": [
    "total = train.isnull().sum().sort_values(ascending=False)\n",
    "percent = (train.isnull().sum()/train.isnull().count()).sort_values(ascending=False)\n",
    "missing_data = pd.concat([total, percent], axis=1, keys=['Total', 'Percent'])\n",
    "missing_data"
   ]
  },
  {
   "cell_type": "code",
   "execution_count": 13,
   "metadata": {
    "colab": {},
    "colab_type": "code",
    "id": "zwcbW_tX8DTW"
   },
   "outputs": [
    {
     "data": {
      "text/html": [
       "<div>\n",
       "<style scoped>\n",
       "    .dataframe tbody tr th:only-of-type {\n",
       "        vertical-align: middle;\n",
       "    }\n",
       "\n",
       "    .dataframe tbody tr th {\n",
       "        vertical-align: top;\n",
       "    }\n",
       "\n",
       "    .dataframe thead th {\n",
       "        text-align: right;\n",
       "    }\n",
       "</style>\n",
       "<table border=\"1\" class=\"dataframe\">\n",
       "  <thead>\n",
       "    <tr style=\"text-align: right;\">\n",
       "      <th></th>\n",
       "      <th>Total</th>\n",
       "      <th>Percent</th>\n",
       "    </tr>\n",
       "  </thead>\n",
       "  <tbody>\n",
       "    <tr>\n",
       "      <th>ZONE2</th>\n",
       "      <td>356051</td>\n",
       "      <td>0.936663</td>\n",
       "    </tr>\n",
       "    <tr>\n",
       "      <th>ZONE1</th>\n",
       "      <td>350266</td>\n",
       "      <td>0.921445</td>\n",
       "    </tr>\n",
       "    <tr>\n",
       "      <th>TIGO</th>\n",
       "      <td>227001</td>\n",
       "      <td>0.597171</td>\n",
       "    </tr>\n",
       "    <tr>\n",
       "      <th>NO_OF_CONNECTIONS</th>\n",
       "      <td>187040</td>\n",
       "      <td>0.492046</td>\n",
       "    </tr>\n",
       "    <tr>\n",
       "      <th>TOP_PACK</th>\n",
       "      <td>158779</td>\n",
       "      <td>0.417700</td>\n",
       "    </tr>\n",
       "    <tr>\n",
       "      <th>FREQ_TOP_PACK</th>\n",
       "      <td>158779</td>\n",
       "      <td>0.417700</td>\n",
       "    </tr>\n",
       "    <tr>\n",
       "      <th>ORANGE</th>\n",
       "      <td>157230</td>\n",
       "      <td>0.413625</td>\n",
       "    </tr>\n",
       "    <tr>\n",
       "      <th>REGION</th>\n",
       "      <td>149728</td>\n",
       "      <td>0.393889</td>\n",
       "    </tr>\n",
       "    <tr>\n",
       "      <th>ON_NET</th>\n",
       "      <td>138514</td>\n",
       "      <td>0.364389</td>\n",
       "    </tr>\n",
       "    <tr>\n",
       "      <th>RECHARGE_FREQ</th>\n",
       "      <td>133055</td>\n",
       "      <td>0.350028</td>\n",
       "    </tr>\n",
       "    <tr>\n",
       "      <th>TOPUP_AMT</th>\n",
       "      <td>133055</td>\n",
       "      <td>0.350028</td>\n",
       "    </tr>\n",
       "    <tr>\n",
       "      <th>FREQUENCE</th>\n",
       "      <td>127373</td>\n",
       "      <td>0.335080</td>\n",
       "    </tr>\n",
       "    <tr>\n",
       "      <th>MONTHLY_INCOME</th>\n",
       "      <td>127373</td>\n",
       "      <td>0.335080</td>\n",
       "    </tr>\n",
       "    <tr>\n",
       "      <th>TOTAL_INCOME</th>\n",
       "      <td>127373</td>\n",
       "      <td>0.335080</td>\n",
       "    </tr>\n",
       "    <tr>\n",
       "      <th>MRG</th>\n",
       "      <td>0</td>\n",
       "      <td>0.000000</td>\n",
       "    </tr>\n",
       "    <tr>\n",
       "      <th>REGULARITY</th>\n",
       "      <td>0</td>\n",
       "      <td>0.000000</td>\n",
       "    </tr>\n",
       "    <tr>\n",
       "      <th>TENURE</th>\n",
       "      <td>0</td>\n",
       "      <td>0.000000</td>\n",
       "    </tr>\n",
       "    <tr>\n",
       "      <th>user_id</th>\n",
       "      <td>0</td>\n",
       "      <td>0.000000</td>\n",
       "    </tr>\n",
       "  </tbody>\n",
       "</table>\n",
       "</div>"
      ],
      "text/plain": [
       "                    Total   Percent\n",
       "ZONE2              356051  0.936663\n",
       "ZONE1              350266  0.921445\n",
       "TIGO               227001  0.597171\n",
       "NO_OF_CONNECTIONS  187040  0.492046\n",
       "TOP_PACK           158779  0.417700\n",
       "FREQ_TOP_PACK      158779  0.417700\n",
       "ORANGE             157230  0.413625\n",
       "REGION             149728  0.393889\n",
       "ON_NET             138514  0.364389\n",
       "RECHARGE_FREQ      133055  0.350028\n",
       "TOPUP_AMT          133055  0.350028\n",
       "FREQUENCE          127373  0.335080\n",
       "MONTHLY_INCOME     127373  0.335080\n",
       "TOTAL_INCOME       127373  0.335080\n",
       "MRG                     0  0.000000\n",
       "REGULARITY              0  0.000000\n",
       "TENURE                  0  0.000000\n",
       "user_id                 0  0.000000"
      ]
     },
     "execution_count": 13,
     "metadata": {},
     "output_type": "execute_result"
    }
   ],
   "source": [
    "total = test.isnull().sum().sort_values(ascending=False)\n",
    "percent = (test.isnull().sum()/test.isnull().count()).sort_values(ascending=False)\n",
    "missing_data = pd.concat([total, percent], axis=1, keys=['Total', 'Percent'])\n",
    "missing_data"
   ]
  },
  {
   "cell_type": "code",
   "execution_count": 14,
   "metadata": {
    "colab": {},
    "colab_type": "code",
    "id": "v_ejkZS08DUA",
    "scrolled": true
   },
   "outputs": [
    {
     "data": {
      "text/html": [
       "<div>\n",
       "<style scoped>\n",
       "    .dataframe tbody tr th:only-of-type {\n",
       "        vertical-align: middle;\n",
       "    }\n",
       "\n",
       "    .dataframe tbody tr th {\n",
       "        vertical-align: top;\n",
       "    }\n",
       "\n",
       "    .dataframe thead th {\n",
       "        text-align: right;\n",
       "    }\n",
       "</style>\n",
       "<table border=\"1\" class=\"dataframe\">\n",
       "  <thead>\n",
       "    <tr style=\"text-align: right;\">\n",
       "      <th></th>\n",
       "      <th>TOPUP_AMT</th>\n",
       "      <th>RECHARGE_FREQ</th>\n",
       "      <th>TOTAL_INCOME</th>\n",
       "      <th>MONTHLY_INCOME</th>\n",
       "      <th>FREQUENCE</th>\n",
       "      <th>NO_OF_CONNECTIONS</th>\n",
       "      <th>ON_NET</th>\n",
       "      <th>ORANGE</th>\n",
       "      <th>TIGO</th>\n",
       "      <th>ZONE1</th>\n",
       "      <th>ZONE2</th>\n",
       "      <th>REGULARITY</th>\n",
       "      <th>FREQ_TOP_PACK</th>\n",
       "      <th>CHURN</th>\n",
       "    </tr>\n",
       "  </thead>\n",
       "  <tbody>\n",
       "    <tr>\n",
       "      <th>count</th>\n",
       "      <td>1.397309e+06</td>\n",
       "      <td>1.397309e+06</td>\n",
       "      <td>1.428000e+06</td>\n",
       "      <td>1.428000e+06</td>\n",
       "      <td>1.428000e+06</td>\n",
       "      <td>1.093615e+06</td>\n",
       "      <td>1.367373e+06</td>\n",
       "      <td>1.258800e+06</td>\n",
       "      <td>864032.000000</td>\n",
       "      <td>169721.000000</td>\n",
       "      <td>136824.000000</td>\n",
       "      <td>2.154048e+06</td>\n",
       "      <td>1.251454e+06</td>\n",
       "      <td>2.154048e+06</td>\n",
       "    </tr>\n",
       "    <tr>\n",
       "      <th>mean</th>\n",
       "      <td>5.532117e+03</td>\n",
       "      <td>1.152912e+01</td>\n",
       "      <td>5.510810e+03</td>\n",
       "      <td>1.836943e+03</td>\n",
       "      <td>1.397814e+01</td>\n",
       "      <td>3.366450e+03</td>\n",
       "      <td>2.776891e+02</td>\n",
       "      <td>9.541871e+01</td>\n",
       "      <td>23.109253</td>\n",
       "      <td>8.170132</td>\n",
       "      <td>7.553309</td>\n",
       "      <td>2.804251e+01</td>\n",
       "      <td>9.272461e+00</td>\n",
       "      <td>1.875474e-01</td>\n",
       "    </tr>\n",
       "    <tr>\n",
       "      <th>std</th>\n",
       "      <td>7.111339e+03</td>\n",
       "      <td>1.327407e+01</td>\n",
       "      <td>7.187113e+03</td>\n",
       "      <td>2.395700e+03</td>\n",
       "      <td>1.469403e+01</td>\n",
       "      <td>1.330446e+04</td>\n",
       "      <td>8.726889e+02</td>\n",
       "      <td>2.049873e+02</td>\n",
       "      <td>63.578086</td>\n",
       "      <td>41.169511</td>\n",
       "      <td>33.487234</td>\n",
       "      <td>2.228686e+01</td>\n",
       "      <td>1.228044e+01</td>\n",
       "      <td>3.903504e-01</td>\n",
       "    </tr>\n",
       "    <tr>\n",
       "      <th>min</th>\n",
       "      <td>1.000000e+01</td>\n",
       "      <td>1.000000e+00</td>\n",
       "      <td>1.000000e+00</td>\n",
       "      <td>0.000000e+00</td>\n",
       "      <td>1.000000e+00</td>\n",
       "      <td>0.000000e+00</td>\n",
       "      <td>0.000000e+00</td>\n",
       "      <td>0.000000e+00</td>\n",
       "      <td>0.000000</td>\n",
       "      <td>0.000000</td>\n",
       "      <td>0.000000</td>\n",
       "      <td>1.000000e+00</td>\n",
       "      <td>1.000000e+00</td>\n",
       "      <td>0.000000e+00</td>\n",
       "    </tr>\n",
       "    <tr>\n",
       "      <th>25%</th>\n",
       "      <td>1.000000e+03</td>\n",
       "      <td>2.000000e+00</td>\n",
       "      <td>1.000000e+03</td>\n",
       "      <td>3.330000e+02</td>\n",
       "      <td>3.000000e+00</td>\n",
       "      <td>0.000000e+00</td>\n",
       "      <td>5.000000e+00</td>\n",
       "      <td>7.000000e+00</td>\n",
       "      <td>2.000000</td>\n",
       "      <td>0.000000</td>\n",
       "      <td>0.000000</td>\n",
       "      <td>6.000000e+00</td>\n",
       "      <td>2.000000e+00</td>\n",
       "      <td>0.000000e+00</td>\n",
       "    </tr>\n",
       "    <tr>\n",
       "      <th>50%</th>\n",
       "      <td>3.000000e+03</td>\n",
       "      <td>7.000000e+00</td>\n",
       "      <td>3.000000e+03</td>\n",
       "      <td>1.000000e+03</td>\n",
       "      <td>9.000000e+00</td>\n",
       "      <td>2.570000e+02</td>\n",
       "      <td>2.700000e+01</td>\n",
       "      <td>2.900000e+01</td>\n",
       "      <td>6.000000</td>\n",
       "      <td>1.000000</td>\n",
       "      <td>2.000000</td>\n",
       "      <td>2.400000e+01</td>\n",
       "      <td>5.000000e+00</td>\n",
       "      <td>0.000000e+00</td>\n",
       "    </tr>\n",
       "    <tr>\n",
       "      <th>75%</th>\n",
       "      <td>7.350000e+03</td>\n",
       "      <td>1.600000e+01</td>\n",
       "      <td>7.368000e+03</td>\n",
       "      <td>2.456000e+03</td>\n",
       "      <td>2.000000e+01</td>\n",
       "      <td>2.895000e+03</td>\n",
       "      <td>1.560000e+02</td>\n",
       "      <td>9.900000e+01</td>\n",
       "      <td>20.000000</td>\n",
       "      <td>3.000000</td>\n",
       "      <td>5.000000</td>\n",
       "      <td>5.100000e+01</td>\n",
       "      <td>1.200000e+01</td>\n",
       "      <td>0.000000e+00</td>\n",
       "    </tr>\n",
       "    <tr>\n",
       "      <th>max</th>\n",
       "      <td>4.700000e+05</td>\n",
       "      <td>1.330000e+02</td>\n",
       "      <td>5.321770e+05</td>\n",
       "      <td>1.773920e+05</td>\n",
       "      <td>9.100000e+01</td>\n",
       "      <td>1.823866e+06</td>\n",
       "      <td>5.080900e+04</td>\n",
       "      <td>2.132300e+04</td>\n",
       "      <td>4174.000000</td>\n",
       "      <td>4792.000000</td>\n",
       "      <td>3697.000000</td>\n",
       "      <td>6.200000e+01</td>\n",
       "      <td>7.130000e+02</td>\n",
       "      <td>1.000000e+00</td>\n",
       "    </tr>\n",
       "  </tbody>\n",
       "</table>\n",
       "</div>"
      ],
      "text/plain": [
       "          TOPUP_AMT  RECHARGE_FREQ  TOTAL_INCOME  MONTHLY_INCOME  \\\n",
       "count  1.397309e+06   1.397309e+06  1.428000e+06    1.428000e+06   \n",
       "mean   5.532117e+03   1.152912e+01  5.510810e+03    1.836943e+03   \n",
       "std    7.111339e+03   1.327407e+01  7.187113e+03    2.395700e+03   \n",
       "min    1.000000e+01   1.000000e+00  1.000000e+00    0.000000e+00   \n",
       "25%    1.000000e+03   2.000000e+00  1.000000e+03    3.330000e+02   \n",
       "50%    3.000000e+03   7.000000e+00  3.000000e+03    1.000000e+03   \n",
       "75%    7.350000e+03   1.600000e+01  7.368000e+03    2.456000e+03   \n",
       "max    4.700000e+05   1.330000e+02  5.321770e+05    1.773920e+05   \n",
       "\n",
       "          FREQUENCE  NO_OF_CONNECTIONS        ON_NET        ORANGE  \\\n",
       "count  1.428000e+06       1.093615e+06  1.367373e+06  1.258800e+06   \n",
       "mean   1.397814e+01       3.366450e+03  2.776891e+02  9.541871e+01   \n",
       "std    1.469403e+01       1.330446e+04  8.726889e+02  2.049873e+02   \n",
       "min    1.000000e+00       0.000000e+00  0.000000e+00  0.000000e+00   \n",
       "25%    3.000000e+00       0.000000e+00  5.000000e+00  7.000000e+00   \n",
       "50%    9.000000e+00       2.570000e+02  2.700000e+01  2.900000e+01   \n",
       "75%    2.000000e+01       2.895000e+03  1.560000e+02  9.900000e+01   \n",
       "max    9.100000e+01       1.823866e+06  5.080900e+04  2.132300e+04   \n",
       "\n",
       "                TIGO          ZONE1          ZONE2    REGULARITY  \\\n",
       "count  864032.000000  169721.000000  136824.000000  2.154048e+06   \n",
       "mean       23.109253       8.170132       7.553309  2.804251e+01   \n",
       "std        63.578086      41.169511      33.487234  2.228686e+01   \n",
       "min         0.000000       0.000000       0.000000  1.000000e+00   \n",
       "25%         2.000000       0.000000       0.000000  6.000000e+00   \n",
       "50%         6.000000       1.000000       2.000000  2.400000e+01   \n",
       "75%        20.000000       3.000000       5.000000  5.100000e+01   \n",
       "max      4174.000000    4792.000000    3697.000000  6.200000e+01   \n",
       "\n",
       "       FREQ_TOP_PACK         CHURN  \n",
       "count   1.251454e+06  2.154048e+06  \n",
       "mean    9.272461e+00  1.875474e-01  \n",
       "std     1.228044e+01  3.903504e-01  \n",
       "min     1.000000e+00  0.000000e+00  \n",
       "25%     2.000000e+00  0.000000e+00  \n",
       "50%     5.000000e+00  0.000000e+00  \n",
       "75%     1.200000e+01  0.000000e+00  \n",
       "max     7.130000e+02  1.000000e+00  "
      ]
     },
     "execution_count": 14,
     "metadata": {},
     "output_type": "execute_result"
    }
   ],
   "source": [
    "train.describe()"
   ]
  },
  {
   "cell_type": "code",
   "execution_count": 15,
   "metadata": {
    "colab": {},
    "colab_type": "code",
    "id": "b7pEYvOy8DUN"
   },
   "outputs": [
    {
     "data": {
      "text/html": [
       "<div>\n",
       "<style scoped>\n",
       "    .dataframe tbody tr th:only-of-type {\n",
       "        vertical-align: middle;\n",
       "    }\n",
       "\n",
       "    .dataframe tbody tr th {\n",
       "        vertical-align: top;\n",
       "    }\n",
       "\n",
       "    .dataframe thead th {\n",
       "        text-align: right;\n",
       "    }\n",
       "</style>\n",
       "<table border=\"1\" class=\"dataframe\">\n",
       "  <thead>\n",
       "    <tr style=\"text-align: right;\">\n",
       "      <th></th>\n",
       "      <th>TOPUP_AMT</th>\n",
       "      <th>RECHARGE_FREQ</th>\n",
       "      <th>TOTAL_INCOME</th>\n",
       "      <th>MONTHLY_INCOME</th>\n",
       "      <th>FREQUENCE</th>\n",
       "      <th>NO_OF_CONNECTIONS</th>\n",
       "      <th>ON_NET</th>\n",
       "      <th>ORANGE</th>\n",
       "      <th>TIGO</th>\n",
       "      <th>ZONE1</th>\n",
       "      <th>ZONE2</th>\n",
       "      <th>REGULARITY</th>\n",
       "      <th>FREQ_TOP_PACK</th>\n",
       "    </tr>\n",
       "  </thead>\n",
       "  <tbody>\n",
       "    <tr>\n",
       "      <th>count</th>\n",
       "      <td>247072.000000</td>\n",
       "      <td>247072.000000</td>\n",
       "      <td>252754.000000</td>\n",
       "      <td>252754.000000</td>\n",
       "      <td>252754.000000</td>\n",
       "      <td>193087.000000</td>\n",
       "      <td>241613.000000</td>\n",
       "      <td>222897.000000</td>\n",
       "      <td>153126.000000</td>\n",
       "      <td>29861.000000</td>\n",
       "      <td>24076.000000</td>\n",
       "      <td>380127.000000</td>\n",
       "      <td>221348.000000</td>\n",
       "    </tr>\n",
       "    <tr>\n",
       "      <th>mean</th>\n",
       "      <td>5524.958826</td>\n",
       "      <td>11.519853</td>\n",
       "      <td>5499.680468</td>\n",
       "      <td>1833.232443</td>\n",
       "      <td>13.957963</td>\n",
       "      <td>3346.095454</td>\n",
       "      <td>278.806310</td>\n",
       "      <td>95.193008</td>\n",
       "      <td>23.052088</td>\n",
       "      <td>8.164663</td>\n",
       "      <td>7.655300</td>\n",
       "      <td>28.081699</td>\n",
       "      <td>9.261584</td>\n",
       "    </tr>\n",
       "    <tr>\n",
       "      <th>std</th>\n",
       "      <td>7116.320922</td>\n",
       "      <td>13.242743</td>\n",
       "      <td>7195.093138</td>\n",
       "      <td>2398.360570</td>\n",
       "      <td>14.652660</td>\n",
       "      <td>12002.653047</td>\n",
       "      <td>874.253933</td>\n",
       "      <td>203.950776</td>\n",
       "      <td>65.042688</td>\n",
       "      <td>48.857605</td>\n",
       "      <td>33.021478</td>\n",
       "      <td>22.289094</td>\n",
       "      <td>12.268907</td>\n",
       "    </tr>\n",
       "    <tr>\n",
       "      <th>min</th>\n",
       "      <td>25.000000</td>\n",
       "      <td>1.000000</td>\n",
       "      <td>1.000000</td>\n",
       "      <td>0.000000</td>\n",
       "      <td>1.000000</td>\n",
       "      <td>0.000000</td>\n",
       "      <td>0.000000</td>\n",
       "      <td>0.000000</td>\n",
       "      <td>0.000000</td>\n",
       "      <td>0.000000</td>\n",
       "      <td>0.000000</td>\n",
       "      <td>1.000000</td>\n",
       "      <td>1.000000</td>\n",
       "    </tr>\n",
       "    <tr>\n",
       "      <th>25%</th>\n",
       "      <td>1000.000000</td>\n",
       "      <td>2.000000</td>\n",
       "      <td>1000.000000</td>\n",
       "      <td>333.000000</td>\n",
       "      <td>3.000000</td>\n",
       "      <td>0.000000</td>\n",
       "      <td>5.000000</td>\n",
       "      <td>7.000000</td>\n",
       "      <td>2.000000</td>\n",
       "      <td>0.000000</td>\n",
       "      <td>0.000000</td>\n",
       "      <td>6.000000</td>\n",
       "      <td>2.000000</td>\n",
       "    </tr>\n",
       "    <tr>\n",
       "      <th>50%</th>\n",
       "      <td>3000.000000</td>\n",
       "      <td>7.000000</td>\n",
       "      <td>3000.000000</td>\n",
       "      <td>1000.000000</td>\n",
       "      <td>9.000000</td>\n",
       "      <td>259.000000</td>\n",
       "      <td>27.000000</td>\n",
       "      <td>29.000000</td>\n",
       "      <td>6.000000</td>\n",
       "      <td>1.000000</td>\n",
       "      <td>2.000000</td>\n",
       "      <td>24.000000</td>\n",
       "      <td>5.000000</td>\n",
       "    </tr>\n",
       "    <tr>\n",
       "      <th>75%</th>\n",
       "      <td>7350.000000</td>\n",
       "      <td>16.000000</td>\n",
       "      <td>7351.000000</td>\n",
       "      <td>2450.000000</td>\n",
       "      <td>19.000000</td>\n",
       "      <td>2884.000000</td>\n",
       "      <td>157.000000</td>\n",
       "      <td>99.000000</td>\n",
       "      <td>20.000000</td>\n",
       "      <td>3.000000</td>\n",
       "      <td>5.000000</td>\n",
       "      <td>51.000000</td>\n",
       "      <td>12.000000</td>\n",
       "    </tr>\n",
       "    <tr>\n",
       "      <th>max</th>\n",
       "      <td>201500.000000</td>\n",
       "      <td>146.000000</td>\n",
       "      <td>200965.000000</td>\n",
       "      <td>66988.000000</td>\n",
       "      <td>91.000000</td>\n",
       "      <td>977796.000000</td>\n",
       "      <td>26786.000000</td>\n",
       "      <td>6345.000000</td>\n",
       "      <td>3708.000000</td>\n",
       "      <td>4215.000000</td>\n",
       "      <td>1649.000000</td>\n",
       "      <td>62.000000</td>\n",
       "      <td>390.000000</td>\n",
       "    </tr>\n",
       "  </tbody>\n",
       "</table>\n",
       "</div>"
      ],
      "text/plain": [
       "           TOPUP_AMT  RECHARGE_FREQ   TOTAL_INCOME  MONTHLY_INCOME  \\\n",
       "count  247072.000000  247072.000000  252754.000000   252754.000000   \n",
       "mean     5524.958826      11.519853    5499.680468     1833.232443   \n",
       "std      7116.320922      13.242743    7195.093138     2398.360570   \n",
       "min        25.000000       1.000000       1.000000        0.000000   \n",
       "25%      1000.000000       2.000000    1000.000000      333.000000   \n",
       "50%      3000.000000       7.000000    3000.000000     1000.000000   \n",
       "75%      7350.000000      16.000000    7351.000000     2450.000000   \n",
       "max    201500.000000     146.000000  200965.000000    66988.000000   \n",
       "\n",
       "           FREQUENCE  NO_OF_CONNECTIONS         ON_NET         ORANGE  \\\n",
       "count  252754.000000      193087.000000  241613.000000  222897.000000   \n",
       "mean       13.957963        3346.095454     278.806310      95.193008   \n",
       "std        14.652660       12002.653047     874.253933     203.950776   \n",
       "min         1.000000           0.000000       0.000000       0.000000   \n",
       "25%         3.000000           0.000000       5.000000       7.000000   \n",
       "50%         9.000000         259.000000      27.000000      29.000000   \n",
       "75%        19.000000        2884.000000     157.000000      99.000000   \n",
       "max        91.000000      977796.000000   26786.000000    6345.000000   \n",
       "\n",
       "                TIGO         ZONE1         ZONE2     REGULARITY  FREQ_TOP_PACK  \n",
       "count  153126.000000  29861.000000  24076.000000  380127.000000  221348.000000  \n",
       "mean       23.052088      8.164663      7.655300      28.081699       9.261584  \n",
       "std        65.042688     48.857605     33.021478      22.289094      12.268907  \n",
       "min         0.000000      0.000000      0.000000       1.000000       1.000000  \n",
       "25%         2.000000      0.000000      0.000000       6.000000       2.000000  \n",
       "50%         6.000000      1.000000      2.000000      24.000000       5.000000  \n",
       "75%        20.000000      3.000000      5.000000      51.000000      12.000000  \n",
       "max      3708.000000   4215.000000   1649.000000      62.000000     390.000000  "
      ]
     },
     "execution_count": 15,
     "metadata": {},
     "output_type": "execute_result"
    }
   ],
   "source": [
    "test.describe()"
   ]
  },
  {
   "cell_type": "markdown",
   "metadata": {
    "colab_type": "text",
    "id": "WIUv6zVUN1LD"
   },
   "source": [
    "##### Check on the non_numeric columns"
   ]
  },
  {
   "cell_type": "code",
   "execution_count": 16,
   "metadata": {
    "colab": {},
    "colab_type": "code",
    "id": "N2HCSrTD8DUR"
   },
   "outputs": [
    {
     "data": {
      "text/html": [
       "<div>\n",
       "<style scoped>\n",
       "    .dataframe tbody tr th:only-of-type {\n",
       "        vertical-align: middle;\n",
       "    }\n",
       "\n",
       "    .dataframe tbody tr th {\n",
       "        vertical-align: top;\n",
       "    }\n",
       "\n",
       "    .dataframe thead th {\n",
       "        text-align: right;\n",
       "    }\n",
       "</style>\n",
       "<table border=\"1\" class=\"dataframe\">\n",
       "  <thead>\n",
       "    <tr style=\"text-align: right;\">\n",
       "      <th></th>\n",
       "      <th>user_id</th>\n",
       "      <th>REGION</th>\n",
       "      <th>TENURE</th>\n",
       "      <th>MRG</th>\n",
       "      <th>TOP_PACK</th>\n",
       "    </tr>\n",
       "  </thead>\n",
       "  <tbody>\n",
       "    <tr>\n",
       "      <th>count</th>\n",
       "      <td>2154048</td>\n",
       "      <td>1304749</td>\n",
       "      <td>2154048</td>\n",
       "      <td>2154048</td>\n",
       "      <td>1251454</td>\n",
       "    </tr>\n",
       "    <tr>\n",
       "      <th>unique</th>\n",
       "      <td>2154048</td>\n",
       "      <td>14</td>\n",
       "      <td>8</td>\n",
       "      <td>1</td>\n",
       "      <td>140</td>\n",
       "    </tr>\n",
       "    <tr>\n",
       "      <th>top</th>\n",
       "      <td>9e551ad260958c7e920477a87c825c4e12889363</td>\n",
       "      <td>DAKAR</td>\n",
       "      <td>K &gt; 24 month</td>\n",
       "      <td>NO</td>\n",
       "      <td>All-net 500F=2000F;5d</td>\n",
       "    </tr>\n",
       "    <tr>\n",
       "      <th>freq</th>\n",
       "      <td>1</td>\n",
       "      <td>513271</td>\n",
       "      <td>2043201</td>\n",
       "      <td>2154048</td>\n",
       "      <td>317802</td>\n",
       "    </tr>\n",
       "  </tbody>\n",
       "</table>\n",
       "</div>"
      ],
      "text/plain": [
       "                                         user_id   REGION        TENURE  \\\n",
       "count                                    2154048  1304749       2154048   \n",
       "unique                                   2154048       14             8   \n",
       "top     9e551ad260958c7e920477a87c825c4e12889363    DAKAR  K > 24 month   \n",
       "freq                                           1   513271       2043201   \n",
       "\n",
       "            MRG               TOP_PACK  \n",
       "count   2154048                1251454  \n",
       "unique        1                    140  \n",
       "top          NO  All-net 500F=2000F;5d  \n",
       "freq    2154048                 317802  "
      ]
     },
     "execution_count": 16,
     "metadata": {},
     "output_type": "execute_result"
    }
   ],
   "source": [
    "train.describe(exclude = np.number) #no duplicates in user_id, MRG is useless"
   ]
  },
  {
   "cell_type": "code",
   "execution_count": 17,
   "metadata": {
    "colab": {},
    "colab_type": "code",
    "id": "voVGxGN18DUY"
   },
   "outputs": [
    {
     "data": {
      "text/html": [
       "<div>\n",
       "<style scoped>\n",
       "    .dataframe tbody tr th:only-of-type {\n",
       "        vertical-align: middle;\n",
       "    }\n",
       "\n",
       "    .dataframe tbody tr th {\n",
       "        vertical-align: top;\n",
       "    }\n",
       "\n",
       "    .dataframe thead th {\n",
       "        text-align: right;\n",
       "    }\n",
       "</style>\n",
       "<table border=\"1\" class=\"dataframe\">\n",
       "  <thead>\n",
       "    <tr style=\"text-align: right;\">\n",
       "      <th></th>\n",
       "      <th>user_id</th>\n",
       "      <th>REGION</th>\n",
       "      <th>TENURE</th>\n",
       "      <th>MRG</th>\n",
       "      <th>TOP_PACK</th>\n",
       "    </tr>\n",
       "  </thead>\n",
       "  <tbody>\n",
       "    <tr>\n",
       "      <th>count</th>\n",
       "      <td>380127</td>\n",
       "      <td>230399</td>\n",
       "      <td>380127</td>\n",
       "      <td>380127</td>\n",
       "      <td>221348</td>\n",
       "    </tr>\n",
       "    <tr>\n",
       "      <th>unique</th>\n",
       "      <td>380127</td>\n",
       "      <td>14</td>\n",
       "      <td>8</td>\n",
       "      <td>1</td>\n",
       "      <td>102</td>\n",
       "    </tr>\n",
       "    <tr>\n",
       "      <th>top</th>\n",
       "      <td>6ef0c5248b6c9ecd68594c76aae44dbe80367dd9</td>\n",
       "      <td>DAKAR</td>\n",
       "      <td>K &gt; 24 month</td>\n",
       "      <td>NO</td>\n",
       "      <td>All-net 500F=2000F;5d</td>\n",
       "    </tr>\n",
       "    <tr>\n",
       "      <th>freq</th>\n",
       "      <td>1</td>\n",
       "      <td>90615</td>\n",
       "      <td>360350</td>\n",
       "      <td>380127</td>\n",
       "      <td>56038</td>\n",
       "    </tr>\n",
       "  </tbody>\n",
       "</table>\n",
       "</div>"
      ],
      "text/plain": [
       "                                         user_id  REGION        TENURE  \\\n",
       "count                                     380127  230399        380127   \n",
       "unique                                    380127      14             8   \n",
       "top     6ef0c5248b6c9ecd68594c76aae44dbe80367dd9   DAKAR  K > 24 month   \n",
       "freq                                           1   90615        360350   \n",
       "\n",
       "           MRG               TOP_PACK  \n",
       "count   380127                 221348  \n",
       "unique       1                    102  \n",
       "top         NO  All-net 500F=2000F;5d  \n",
       "freq    380127                  56038  "
      ]
     },
     "execution_count": 17,
     "metadata": {},
     "output_type": "execute_result"
    }
   ],
   "source": [
    "test.describe(exclude = np.number)"
   ]
  },
  {
   "cell_type": "markdown",
   "metadata": {
    "colab_type": "text",
    "id": "lBp-NtBh8DUc"
   },
   "source": [
    "Let's delete the 'MRG' column since it consists of a single value. Also, let's delete colums 'ZONE2' and 'ZONE1' since they have so many missing values. "
   ]
  },
  {
   "cell_type": "code",
   "execution_count": 18,
   "metadata": {
    "colab": {},
    "colab_type": "code",
    "id": "35_3mJjL8DUd"
   },
   "outputs": [],
   "source": [
    "train = train.drop(['MRG', 'ZONE2', 'ZONE1'], axis = 1)\n",
    "test = test.drop(['MRG', 'ZONE2', 'ZONE1'], axis = 1)"
   ]
  },
  {
   "cell_type": "code",
   "execution_count": 19,
   "metadata": {
    "colab": {},
    "colab_type": "code",
    "id": "LIACggcp8DUj"
   },
   "outputs": [
    {
     "data": {
      "text/plain": [
       "array(['FATICK', nan, 'DAKAR', 'LOUGA', 'TAMBACOUNDA', 'KAOLACK', 'THIES',\n",
       "       'SAINT-LOUIS', 'KOLDA', 'KAFFRINE', 'DIOURBEL', 'ZIGUINCHOR',\n",
       "       'MATAM', 'SEDHIOU', 'KEDOUGOU'], dtype=object)"
      ]
     },
     "execution_count": 19,
     "metadata": {},
     "output_type": "execute_result"
    }
   ],
   "source": [
    "train.REGION.unique()"
   ]
  },
  {
   "cell_type": "code",
   "execution_count": 20,
   "metadata": {
    "colab": {},
    "colab_type": "code",
    "id": "IgGRHFia8DUn"
   },
   "outputs": [
    {
     "name": "stdout",
     "output_type": "stream",
     "text": [
      "(2154048, 16)\n",
      "\n",
      "(380127, 15)\n"
     ]
    }
   ],
   "source": [
    "print(train.shape)\n",
    "print()\n",
    "print(test.shape)"
   ]
  },
  {
   "cell_type": "markdown",
   "metadata": {
    "colab_type": "text",
    "id": "DgIvQV6p8DUr"
   },
   "source": [
    "# EXPLORING THE DATA"
   ]
  },
  {
   "cell_type": "markdown",
   "metadata": {
    "colab_type": "text",
    "id": "-wmnm6vlOvVs"
   },
   "source": [
    "##### Check for the distribution of the data"
   ]
  },
  {
   "cell_type": "code",
   "execution_count": 21,
   "metadata": {
    "colab": {},
    "colab_type": "code",
    "id": "O6KPCbjuOuT0"
   },
   "outputs": [
    {
     "name": "stderr",
     "output_type": "stream",
     "text": [
      "C:\\Users\\Kelvin Kinda\\Anaconda3\\lib\\site-packages\\IPython\\core\\interactiveshell.py:2910: UserWarning: To output multiple subplots, the figure containing the passed axes is being cleared\n",
      "  exec(code_obj, self.user_global_ns, self.user_ns)\n"
     ]
    },
    {
     "data": {
      "text/plain": [
       "array([[<matplotlib.axes._subplots.AxesSubplot object at 0x000001D39AC28278>,\n",
       "        <matplotlib.axes._subplots.AxesSubplot object at 0x000001D38D1DDC50>,\n",
       "        <matplotlib.axes._subplots.AxesSubplot object at 0x000001D38D215C50>],\n",
       "       [<matplotlib.axes._subplots.AxesSubplot object at 0x000001D38D2542B0>,\n",
       "        <matplotlib.axes._subplots.AxesSubplot object at 0x000001D38D26B160>,\n",
       "        <matplotlib.axes._subplots.AxesSubplot object at 0x000001D38D26B470>],\n",
       "       [<matplotlib.axes._subplots.AxesSubplot object at 0x000001D38D2CBB38>,\n",
       "        <matplotlib.axes._subplots.AxesSubplot object at 0x000001D38D3248D0>,\n",
       "        <matplotlib.axes._subplots.AxesSubplot object at 0x000001D38D358CC0>],\n",
       "       [<matplotlib.axes._subplots.AxesSubplot object at 0x000001D38D373710>,\n",
       "        <matplotlib.axes._subplots.AxesSubplot object at 0x000001D38D3C74E0>,\n",
       "        <matplotlib.axes._subplots.AxesSubplot object at 0x000001D38D3FB780>]],\n",
       "      dtype=object)"
      ]
     },
     "execution_count": 21,
     "metadata": {},
     "output_type": "execute_result"
    },
    {
     "data": {
      "image/png": "[encoded data removed]",
      "text/plain": [
       "<matplotlib.figure.Figure at 0x1d39ac23908>"
      ]
     },
     "metadata": {},
     "output_type": "display_data"
    }
   ],
   "source": [
    "gig, ax = plt.subplots(figsize=(18, 12))\n",
    "train.hist(ax=ax)"
   ]
  },
  {
   "cell_type": "markdown",
   "metadata": {
    "colab_type": "text",
    "id": "09KOClYTPWpc"
   },
   "source": [
    "##### Create a boxplot to check for outliers in each of the features that have a skewed distribution"
   ]
  },
  {
   "cell_type": "code",
   "execution_count": 22,
   "metadata": {
    "colab": {},
    "colab_type": "code",
    "id": "NCf9q18mPeGc"
   },
   "outputs": [
    {
     "data": {
      "application/vnd.jupyter.widget-view+json": {
       "model_id": "e123ab45632f48d69ee0a3daee35abf7",
       "version_major": 2,
       "version_minor": 0
      },
      "text/html": [
       "<p>Failed to display Jupyter Widget of type <code>interactive</code>.</p>\n",
       "<p>\n",
       "  If you're reading this message in the Jupyter Notebook or JupyterLab Notebook, it may mean\n",
       "  that the widgets JavaScript is still loading. If this message persists, it\n",
       "  likely means that the widgets JavaScript library is either not installed or\n",
       "  not enabled. See the <a href=\"https://ipywidgets.readthedocs.io/en/stable/user_install.html\">Jupyter\n",
       "  Widgets Documentation</a> for setup instructions.\n",
       "</p>\n",
       "<p>\n",
       "  If you're reading this message in another frontend (for example, a static\n",
       "  rendering on GitHub or <a href=\"https://nbviewer.jupyter.org/\">NBViewer</a>),\n",
       "  it may mean that your frontend doesn't currently support widgets.\n",
       "</p>\n"
      ],
      "text/plain": [
       "interactive(children=(Dropdown(description='feature', options={'TOPUP_AMT': 'TOPUP_AMT', 'RECHARGE_FREQ': 'RECHARGE_FREQ', 'TOTAL_INCOME': 'TOTAL_INCOME', 'MONTHLY_INCOME': 'MONTHLY_INCOME', 'FREQUENCE': 'FREQUENCE', 'NO_OF_CONNECTIONS': 'NO_OF_CONNECTIONS', 'ON_NET': 'ON_NET', 'ORANGE': 'ORANGE', 'TIGO': 'TIGO', 'REGULARITY': 'REGULARITY', 'FREQ_TOP_PACK': 'FREQ_TOP_PACK', 'CHURN': 'CHURN'}, value='TOPUP_AMT'), Output()), _dom_classes=('widget-interact',))"
      ]
     },
     "metadata": {},
     "output_type": "display_data"
    },
    {
     "data": {
      "text/plain": [
       "<function __main__.plot_boxplot>"
      ]
     },
     "execution_count": 22,
     "metadata": {},
     "output_type": "execute_result"
    }
   ],
   "source": [
    "from ipywidgets import widgets\n",
    "\n",
    "def plot_boxplot(feature):\n",
    "\n",
    "    sns.boxplot(y=feature, data=train)\n",
    "\n",
    "columns = {col : col for col in train.columns[train.dtypes != 'object']}\n",
    "\n",
    "widgets.interact(plot_boxplot, feature=columns)"
   ]
  },
  {
   "cell_type": "markdown",
   "metadata": {
    "colab_type": "text",
    "id": "2eUJL6AtaVxX"
   },
   "source": [
    "### Create a Sample that 40% of the train dataset"
   ]
  },
  {
   "cell_type": "code",
   "execution_count": 23,
   "metadata": {
    "colab": {},
    "colab_type": "code",
    "id": "jv2gI6imaVOA"
   },
   "outputs": [],
   "source": [
    "sample_train = train.iloc[:round(0.3 * train.shape[0]), :]"
   ]
  },
  {
   "cell_type": "code",
   "execution_count": 24,
   "metadata": {
    "colab": {},
    "colab_type": "code",
    "id": "Kh-pLOk9ca3q"
   },
   "outputs": [
    {
     "data": {
      "text/plain": [
       "646214"
      ]
     },
     "execution_count": 24,
     "metadata": {},
     "output_type": "execute_result"
    }
   ],
   "source": [
    "round(0.3 * train.shape[0])"
   ]
  },
  {
   "cell_type": "code",
   "execution_count": 25,
   "metadata": {
    "colab": {},
    "colab_type": "code",
    "id": "fjx5KTtcbdpW"
   },
   "outputs": [
    {
     "data": {
      "text/plain": [
       "(646214, 16)"
      ]
     },
     "execution_count": 25,
     "metadata": {},
     "output_type": "execute_result"
    }
   ],
   "source": [
    "sample_train.shape"
   ]
  },
  {
   "cell_type": "code",
   "execution_count": 26,
   "metadata": {
    "colab": {},
    "colab_type": "code",
    "id": "GHDBBEi3bMoI"
   },
   "outputs": [
    {
     "data": {
      "application/vnd.jupyter.widget-view+json": {
       "model_id": "b863342abde14660a39bf860f8721fb0",
       "version_major": 2,
       "version_minor": 0
      },
      "text/html": [
       "<p>Failed to display Jupyter Widget of type <code>interactive</code>.</p>\n",
       "<p>\n",
       "  If you're reading this message in the Jupyter Notebook or JupyterLab Notebook, it may mean\n",
       "  that the widgets JavaScript is still loading. If this message persists, it\n",
       "  likely means that the widgets JavaScript library is either not installed or\n",
       "  not enabled. See the <a href=\"https://ipywidgets.readthedocs.io/en/stable/user_install.html\">Jupyter\n",
       "  Widgets Documentation</a> for setup instructions.\n",
       "</p>\n",
       "<p>\n",
       "  If you're reading this message in another frontend (for example, a static\n",
       "  rendering on GitHub or <a href=\"https://nbviewer.jupyter.org/\">NBViewer</a>),\n",
       "  it may mean that your frontend doesn't currently support widgets.\n",
       "</p>\n"
      ],
      "text/plain": [
       "interactive(children=(Dropdown(description='feature', options={'TOPUP_AMT': 'TOPUP_AMT', 'RECHARGE_FREQ': 'RECHARGE_FREQ', 'TOTAL_INCOME': 'TOTAL_INCOME', 'MONTHLY_INCOME': 'MONTHLY_INCOME', 'FREQUENCE': 'FREQUENCE', 'NO_OF_CONNECTIONS': 'NO_OF_CONNECTIONS', 'ON_NET': 'ON_NET', 'ORANGE': 'ORANGE', 'TIGO': 'TIGO', 'REGULARITY': 'REGULARITY', 'FREQ_TOP_PACK': 'FREQ_TOP_PACK', 'CHURN': 'CHURN'}, value='TOPUP_AMT'), Output()), _dom_classes=('widget-interact',))"
      ]
     },
     "metadata": {},
     "output_type": "display_data"
    },
    {
     "data": {
      "text/plain": [
       "<function __main__.plot_boxplot>"
      ]
     },
     "execution_count": 26,
     "metadata": {},
     "output_type": "execute_result"
    }
   ],
   "source": [
    "from ipywidgets import widgets\n",
    "\n",
    "def plot_boxplot(feature):\n",
    "\n",
    "    sns.boxplot(y=feature, data=sample_train)\n",
    "\n",
    "columns = {col : col for col in sample_train.columns[sample_train.dtypes != 'object']}\n",
    "\n",
    "widgets.interact(plot_boxplot, feature=columns)"
   ]
  },
  {
   "cell_type": "markdown",
   "metadata": {
    "colab_type": "text",
    "id": "9iuTSYoMTvH7"
   },
   "source": [
    "##### Trim ouliers with 4 standard deviations from the mean"
   ]
  },
  {
   "cell_type": "code",
   "execution_count": 27,
   "metadata": {
    "colab": {},
    "colab_type": "code",
    "id": "5jDPjv2yWZ3a"
   },
   "outputs": [
    {
     "data": {
      "text/plain": [
       "646214"
      ]
     },
     "execution_count": 27,
     "metadata": {},
     "output_type": "execute_result"
    }
   ],
   "source": [
    "count_before = sample_train.shape[0]\n",
    "count_before"
   ]
  },
  {
   "cell_type": "code",
   "execution_count": 28,
   "metadata": {
    "colab": {},
    "colab_type": "code",
    "id": "ku0au1zqT1xt"
   },
   "outputs": [],
   "source": [
    "# from scipy import stats\n",
    "\n",
    "# sample_train = sample_train[(np.abs(stats.zscore(sample_train)) < 3).all(axis=1)]"
   ]
  },
  {
   "cell_type": "code",
   "execution_count": 29,
   "metadata": {
    "colab": {},
    "colab_type": "code",
    "id": "d8aeASGbVAgp"
   },
   "outputs": [
    {
     "data": {
      "text/plain": [
       "2154048"
      ]
     },
     "execution_count": 29,
     "metadata": {},
     "output_type": "execute_result"
    }
   ],
   "source": [
    "count_after = train.shape[0]\n",
    "count_after"
   ]
  },
  {
   "cell_type": "markdown",
   "metadata": {
    "colab_type": "text",
    "id": "JG_-iTIC8DUs"
   },
   "source": [
    "Let's start by looking at the distribution of our target variable."
   ]
  },
  {
   "cell_type": "code",
   "execution_count": 30,
   "metadata": {
    "colab": {},
    "colab_type": "code",
    "id": "xW_izfkA8DUt"
   },
   "outputs": [
    {
     "name": "stdout",
     "output_type": "stream",
     "text": [
      "CHURN\n",
      "0    1750062\n",
      "1     403986\n",
      "dtype: int64\n"
     ]
    },
    {
     "data": {
      "text/plain": [
       "Text(0,0.5,'Frequency')"
      ]
     },
     "execution_count": 30,
     "metadata": {},
     "output_type": "execute_result"
    },
    {
     "data": {
      "image/png": "[encoded data removed]",
      "text/plain": [
       "<matplotlib.figure.Figure at 0x1d38d5bde10>"
      ]
     },
     "metadata": {},
     "output_type": "display_data"
    }
   ],
   "source": [
    "print(train.groupby(['CHURN']).size())\n",
    "#bar chart to show distribution of the target variable\n",
    "n_obs = train.shape[0]\n",
    "#index = ['No','Yes']\n",
    "churn_plot = train['CHURN'].value_counts().div(n_obs).plot(kind='bar',figsize=(4,4),title=\"Churn rate\", color=['#BB6B5A','#8CCB9B'])\n",
    "churn_plot.set_xlabel(\"Churn Risk\")\n",
    "churn_plot.set_ylabel(\"Frequency\")"
   ]
  },
  {
   "cell_type": "markdown",
   "metadata": {
    "colab_type": "text",
    "id": "8VMo0pZp8DUz"
   },
   "source": [
    "It is imbalanced, with more than 80% of customers staying. Next, let's take a look at our features. We have a mix of continous and categorical features. \n",
    "\n",
    "Let's begin with the categorical features and investigate how the churn rate differ across the various levels of each categorical feature."
   ]
  },
  {
   "cell_type": "code",
   "execution_count": 31,
   "metadata": {
    "colab": {},
    "colab_type": "code",
    "id": "BvXfYA4AAtfx"
   },
   "outputs": [
    {
     "data": {
      "text/html": [
       "<div>\n",
       "<style scoped>\n",
       "    .dataframe tbody tr th:only-of-type {\n",
       "        vertical-align: middle;\n",
       "    }\n",
       "\n",
       "    .dataframe tbody tr th {\n",
       "        vertical-align: top;\n",
       "    }\n",
       "\n",
       "    .dataframe thead th {\n",
       "        text-align: right;\n",
       "    }\n",
       "</style>\n",
       "<table border=\"1\" class=\"dataframe\">\n",
       "  <thead>\n",
       "    <tr style=\"text-align: right;\">\n",
       "      <th></th>\n",
       "      <th>CHURN</th>\n",
       "      <th>0</th>\n",
       "      <th>1</th>\n",
       "    </tr>\n",
       "    <tr>\n",
       "      <th>TENURE</th>\n",
       "      <th>TOP_PACK</th>\n",
       "      <th></th>\n",
       "      <th></th>\n",
       "    </tr>\n",
       "  </thead>\n",
       "  <tbody>\n",
       "    <tr>\n",
       "      <th rowspan=\"30\" valign=\"top\">D 3-6 month</th>\n",
       "      <th>All-net 1000=5000;5d</th>\n",
       "      <td>2.0</td>\n",
       "      <td>1.0</td>\n",
       "    </tr>\n",
       "    <tr>\n",
       "      <th>All-net 500F =2000F_AllNet_Unlimited</th>\n",
       "      <td>7.0</td>\n",
       "      <td>NaN</td>\n",
       "    </tr>\n",
       "    <tr>\n",
       "      <th>All-net 500F=2000F;5d</th>\n",
       "      <td>60.0</td>\n",
       "      <td>5.0</td>\n",
       "    </tr>\n",
       "    <tr>\n",
       "      <th>All-net 600F= 3000F ;5d</th>\n",
       "      <td>1.0</td>\n",
       "      <td>NaN</td>\n",
       "    </tr>\n",
       "    <tr>\n",
       "      <th>Data: 100 F=40MB,24H</th>\n",
       "      <td>33.0</td>\n",
       "      <td>4.0</td>\n",
       "    </tr>\n",
       "    <tr>\n",
       "      <th>Data: 200 F=100MB,24H</th>\n",
       "      <td>21.0</td>\n",
       "      <td>NaN</td>\n",
       "    </tr>\n",
       "    <tr>\n",
       "      <th>Data:1000F=2GB,30d</th>\n",
       "      <td>7.0</td>\n",
       "      <td>2.0</td>\n",
       "    </tr>\n",
       "    <tr>\n",
       "      <th>Data:1000F=5GB,7d</th>\n",
       "      <td>7.0</td>\n",
       "      <td>NaN</td>\n",
       "    </tr>\n",
       "    <tr>\n",
       "      <th>Data:200F=Unlimited,24H</th>\n",
       "      <td>11.0</td>\n",
       "      <td>1.0</td>\n",
       "    </tr>\n",
       "    <tr>\n",
       "      <th>Data:3000F=10GB,30d</th>\n",
       "      <td>2.0</td>\n",
       "      <td>NaN</td>\n",
       "    </tr>\n",
       "    <tr>\n",
       "      <th>Data:30Go_V 30_Days</th>\n",
       "      <td>1.0</td>\n",
       "      <td>NaN</td>\n",
       "    </tr>\n",
       "    <tr>\n",
       "      <th>Data:490F=1GB,7d</th>\n",
       "      <td>46.0</td>\n",
       "      <td>1.0</td>\n",
       "    </tr>\n",
       "    <tr>\n",
       "      <th>Data:500F=2GB,24H</th>\n",
       "      <td>3.0</td>\n",
       "      <td>NaN</td>\n",
       "    </tr>\n",
       "    <tr>\n",
       "      <th>Facebook_MIX_2D</th>\n",
       "      <td>1.0</td>\n",
       "      <td>NaN</td>\n",
       "    </tr>\n",
       "    <tr>\n",
       "      <th>IVR Echat_Daily_50F</th>\n",
       "      <td>7.0</td>\n",
       "      <td>1.0</td>\n",
       "    </tr>\n",
       "    <tr>\n",
       "      <th>Jokko_Daily</th>\n",
       "      <td>9.0</td>\n",
       "      <td>1.0</td>\n",
       "    </tr>\n",
       "    <tr>\n",
       "      <th>Jokko_Monthly</th>\n",
       "      <td>1.0</td>\n",
       "      <td>NaN</td>\n",
       "    </tr>\n",
       "    <tr>\n",
       "      <th>MIXT: 200mnoff net _unl on net _5Go;30d</th>\n",
       "      <td>4.0</td>\n",
       "      <td>2.0</td>\n",
       "    </tr>\n",
       "    <tr>\n",
       "      <th>MIXT: 390F=04HOn-net_400SMS_400 Mo;4h\\t</th>\n",
       "      <td>3.0</td>\n",
       "      <td>1.0</td>\n",
       "    </tr>\n",
       "    <tr>\n",
       "      <th>MIXT:500F= 2500F on net _2500F off net;2d</th>\n",
       "      <td>5.0</td>\n",
       "      <td>1.0</td>\n",
       "    </tr>\n",
       "    <tr>\n",
       "      <th>Mixt 250F=Unlimited_call24H</th>\n",
       "      <td>19.0</td>\n",
       "      <td>NaN</td>\n",
       "    </tr>\n",
       "    <tr>\n",
       "      <th>On net 200F= 3000F_10Mo ;24H</th>\n",
       "      <td>NaN</td>\n",
       "      <td>1.0</td>\n",
       "    </tr>\n",
       "    <tr>\n",
       "      <th>On net 200F=Unlimited _call24H</th>\n",
       "      <td>73.0</td>\n",
       "      <td>3.0</td>\n",
       "    </tr>\n",
       "    <tr>\n",
       "      <th>On-net 200F=60mn;1d</th>\n",
       "      <td>1.0</td>\n",
       "      <td>NaN</td>\n",
       "    </tr>\n",
       "    <tr>\n",
       "      <th>On-net 500=4000,10d</th>\n",
       "      <td>6.0</td>\n",
       "      <td>1.0</td>\n",
       "    </tr>\n",
       "    <tr>\n",
       "      <th>On-net 500F_FNF;3d</th>\n",
       "      <td>9.0</td>\n",
       "      <td>NaN</td>\n",
       "    </tr>\n",
       "    <tr>\n",
       "      <th>Staff_CPE_Rent</th>\n",
       "      <td>3.0</td>\n",
       "      <td>NaN</td>\n",
       "    </tr>\n",
       "    <tr>\n",
       "      <th>VAS(IVR_Radio_Daily)</th>\n",
       "      <td>9.0</td>\n",
       "      <td>NaN</td>\n",
       "    </tr>\n",
       "    <tr>\n",
       "      <th>WIFI_ Family _4MBPS</th>\n",
       "      <td>1.0</td>\n",
       "      <td>2.0</td>\n",
       "    </tr>\n",
       "    <tr>\n",
       "      <th>WIFI_Family_2MBPS</th>\n",
       "      <td>15.0</td>\n",
       "      <td>NaN</td>\n",
       "    </tr>\n",
       "    <tr>\n",
       "      <th>...</th>\n",
       "      <th>...</th>\n",
       "      <td>...</td>\n",
       "      <td>...</td>\n",
       "    </tr>\n",
       "    <tr>\n",
       "      <th rowspan=\"30\" valign=\"top\">K &gt; 24 month</th>\n",
       "      <th>On-net 2000f_One_Month_100H; 30d</th>\n",
       "      <td>208.0</td>\n",
       "      <td>16.0</td>\n",
       "    </tr>\n",
       "    <tr>\n",
       "      <th>On-net 200F=60mn;1d</th>\n",
       "      <td>6003.0</td>\n",
       "      <td>260.0</td>\n",
       "    </tr>\n",
       "    <tr>\n",
       "      <th>On-net 300F=1800F;3d</th>\n",
       "      <td>701.0</td>\n",
       "      <td>33.0</td>\n",
       "    </tr>\n",
       "    <tr>\n",
       "      <th>On-net 500=4000,10d</th>\n",
       "      <td>24726.0</td>\n",
       "      <td>847.0</td>\n",
       "    </tr>\n",
       "    <tr>\n",
       "      <th>On-net 500F_FNF;3d</th>\n",
       "      <td>20087.0</td>\n",
       "      <td>1055.0</td>\n",
       "    </tr>\n",
       "    <tr>\n",
       "      <th>Package3_Monthly</th>\n",
       "      <td>1.0</td>\n",
       "      <td>NaN</td>\n",
       "    </tr>\n",
       "    <tr>\n",
       "      <th>Pilot_Youth1_290</th>\n",
       "      <td>381.0</td>\n",
       "      <td>17.0</td>\n",
       "    </tr>\n",
       "    <tr>\n",
       "      <th>Pilot_Youth4_490</th>\n",
       "      <td>524.0</td>\n",
       "      <td>35.0</td>\n",
       "    </tr>\n",
       "    <tr>\n",
       "      <th>SMS Max</th>\n",
       "      <td>1.0</td>\n",
       "      <td>NaN</td>\n",
       "    </tr>\n",
       "    <tr>\n",
       "      <th>SUPERMAGIK_1000</th>\n",
       "      <td>208.0</td>\n",
       "      <td>2.0</td>\n",
       "    </tr>\n",
       "    <tr>\n",
       "      <th>SUPERMAGIK_5000</th>\n",
       "      <td>286.0</td>\n",
       "      <td>5.0</td>\n",
       "    </tr>\n",
       "    <tr>\n",
       "      <th>Staff_CPE_Rent</th>\n",
       "      <td>50.0</td>\n",
       "      <td>12.0</td>\n",
       "    </tr>\n",
       "    <tr>\n",
       "      <th>TelmunCRBT_daily</th>\n",
       "      <td>77.0</td>\n",
       "      <td>3.0</td>\n",
       "    </tr>\n",
       "    <tr>\n",
       "      <th>Twter_U2opia_Daily</th>\n",
       "      <td>11155.0</td>\n",
       "      <td>566.0</td>\n",
       "    </tr>\n",
       "    <tr>\n",
       "      <th>Twter_U2opia_Monthly</th>\n",
       "      <td>417.0</td>\n",
       "      <td>19.0</td>\n",
       "    </tr>\n",
       "    <tr>\n",
       "      <th>Twter_U2opia_Weekly</th>\n",
       "      <td>5326.0</td>\n",
       "      <td>239.0</td>\n",
       "    </tr>\n",
       "    <tr>\n",
       "      <th>VAS(IVR_Radio_Daily)</th>\n",
       "      <td>13293.0</td>\n",
       "      <td>673.0</td>\n",
       "    </tr>\n",
       "    <tr>\n",
       "      <th>VAS(IVR_Radio_Monthly)</th>\n",
       "      <td>57.0</td>\n",
       "      <td>7.0</td>\n",
       "    </tr>\n",
       "    <tr>\n",
       "      <th>VAS(IVR_Radio_Weekly)</th>\n",
       "      <td>37.0</td>\n",
       "      <td>2.0</td>\n",
       "    </tr>\n",
       "    <tr>\n",
       "      <th>WIFI_ Family _10MBPS</th>\n",
       "      <td>17.0</td>\n",
       "      <td>2.0</td>\n",
       "    </tr>\n",
       "    <tr>\n",
       "      <th>WIFI_ Family _4MBPS</th>\n",
       "      <td>93.0</td>\n",
       "      <td>16.0</td>\n",
       "    </tr>\n",
       "    <tr>\n",
       "      <th>WIFI_Family_2MBPS</th>\n",
       "      <td>413.0</td>\n",
       "      <td>65.0</td>\n",
       "    </tr>\n",
       "    <tr>\n",
       "      <th>YMGX 100=1 hour FNF, 24H/1 month</th>\n",
       "      <td>429.0</td>\n",
       "      <td>8.0</td>\n",
       "    </tr>\n",
       "    <tr>\n",
       "      <th>YMGX on-net 100=700F, 24H</th>\n",
       "      <td>1.0</td>\n",
       "      <td>NaN</td>\n",
       "    </tr>\n",
       "    <tr>\n",
       "      <th>Yewouleen_PKG</th>\n",
       "      <td>441.0</td>\n",
       "      <td>11.0</td>\n",
       "    </tr>\n",
       "    <tr>\n",
       "      <th>pack_chinguitel_24h</th>\n",
       "      <td>4.0</td>\n",
       "      <td>1.0</td>\n",
       "    </tr>\n",
       "    <tr>\n",
       "      <th>pilot_offer4</th>\n",
       "      <td>1.0</td>\n",
       "      <td>NaN</td>\n",
       "    </tr>\n",
       "    <tr>\n",
       "      <th>pilot_offer5</th>\n",
       "      <td>1.0</td>\n",
       "      <td>NaN</td>\n",
       "    </tr>\n",
       "    <tr>\n",
       "      <th>pilot_offer6</th>\n",
       "      <td>5.0</td>\n",
       "      <td>NaN</td>\n",
       "    </tr>\n",
       "    <tr>\n",
       "      <th>pilot_offer7</th>\n",
       "      <td>1.0</td>\n",
       "      <td>1.0</td>\n",
       "    </tr>\n",
       "  </tbody>\n",
       "</table>\n",
       "<p>552 rows × 2 columns</p>\n",
       "</div>"
      ],
      "text/plain": [
       "CHURN                                                         0       1\n",
       "TENURE       TOP_PACK                                                  \n",
       "D 3-6 month  All-net 1000=5000;5d                           2.0     1.0\n",
       "             All-net 500F =2000F_AllNet_Unlimited           7.0     NaN\n",
       "             All-net 500F=2000F;5d                         60.0     5.0\n",
       "             All-net 600F= 3000F ;5d                        1.0     NaN\n",
       "             Data: 100 F=40MB,24H                          33.0     4.0\n",
       "             Data: 200 F=100MB,24H                         21.0     NaN\n",
       "             Data:1000F=2GB,30d                             7.0     2.0\n",
       "             Data:1000F=5GB,7d                              7.0     NaN\n",
       "             Data:200F=Unlimited,24H                       11.0     1.0\n",
       "             Data:3000F=10GB,30d                            2.0     NaN\n",
       "             Data:30Go_V 30_Days                            1.0     NaN\n",
       "             Data:490F=1GB,7d                              46.0     1.0\n",
       "             Data:500F=2GB,24H                              3.0     NaN\n",
       "             Facebook_MIX_2D                                1.0     NaN\n",
       "             IVR Echat_Daily_50F                            7.0     1.0\n",
       "             Jokko_Daily                                    9.0     1.0\n",
       "             Jokko_Monthly                                  1.0     NaN\n",
       "             MIXT: 200mnoff net _unl on net _5Go;30d        4.0     2.0\n",
       "             MIXT: 390F=04HOn-net_400SMS_400 Mo;4h\\t        3.0     1.0\n",
       "             MIXT:500F= 2500F on net _2500F off net;2d      5.0     1.0\n",
       "             Mixt 250F=Unlimited_call24H                   19.0     NaN\n",
       "             On net 200F= 3000F_10Mo ;24H                   NaN     1.0\n",
       "             On net 200F=Unlimited _call24H                73.0     3.0\n",
       "             On-net 200F=60mn;1d                            1.0     NaN\n",
       "             On-net 500=4000,10d                            6.0     1.0\n",
       "             On-net 500F_FNF;3d                             9.0     NaN\n",
       "             Staff_CPE_Rent                                 3.0     NaN\n",
       "             VAS(IVR_Radio_Daily)                           9.0     NaN\n",
       "             WIFI_ Family _4MBPS                            1.0     2.0\n",
       "             WIFI_Family_2MBPS                             15.0     NaN\n",
       "...                                                         ...     ...\n",
       "K > 24 month On-net 2000f_One_Month_100H; 30d             208.0    16.0\n",
       "             On-net 200F=60mn;1d                         6003.0   260.0\n",
       "             On-net 300F=1800F;3d                         701.0    33.0\n",
       "             On-net 500=4000,10d                        24726.0   847.0\n",
       "             On-net 500F_FNF;3d                         20087.0  1055.0\n",
       "             Package3_Monthly                               1.0     NaN\n",
       "             Pilot_Youth1_290                             381.0    17.0\n",
       "             Pilot_Youth4_490                             524.0    35.0\n",
       "             SMS Max                                        1.0     NaN\n",
       "             SUPERMAGIK_1000                              208.0     2.0\n",
       "             SUPERMAGIK_5000                              286.0     5.0\n",
       "             Staff_CPE_Rent                                50.0    12.0\n",
       "             TelmunCRBT_daily                              77.0     3.0\n",
       "             Twter_U2opia_Daily                         11155.0   566.0\n",
       "             Twter_U2opia_Monthly                         417.0    19.0\n",
       "             Twter_U2opia_Weekly                         5326.0   239.0\n",
       "             VAS(IVR_Radio_Daily)                       13293.0   673.0\n",
       "             VAS(IVR_Radio_Monthly)                        57.0     7.0\n",
       "             VAS(IVR_Radio_Weekly)                         37.0     2.0\n",
       "             WIFI_ Family _10MBPS                          17.0     2.0\n",
       "             WIFI_ Family _4MBPS                           93.0    16.0\n",
       "             WIFI_Family_2MBPS                            413.0    65.0\n",
       "             YMGX 100=1 hour FNF, 24H/1 month             429.0     8.0\n",
       "             YMGX on-net 100=700F, 24H                      1.0     NaN\n",
       "             Yewouleen_PKG                                441.0    11.0\n",
       "             pack_chinguitel_24h                            4.0     1.0\n",
       "             pilot_offer4                                   1.0     NaN\n",
       "             pilot_offer5                                   1.0     NaN\n",
       "             pilot_offer6                                   5.0     NaN\n",
       "             pilot_offer7                                   1.0     1.0\n",
       "\n",
       "[552 rows x 2 columns]"
      ]
     },
     "execution_count": 31,
     "metadata": {},
     "output_type": "execute_result"
    }
   ],
   "source": [
    "train[[\"CHURN\", \"TENURE\", \"TOP_PACK\"]].groupby([\"CHURN\", \"TENURE\", \"TOP_PACK\"]).size().unstack(\"CHURN\")"
   ]
  },
  {
   "cell_type": "code",
   "execution_count": 32,
   "metadata": {
    "colab": {},
    "colab_type": "code",
    "id": "e4Cr8Iyi8DUz"
   },
   "outputs": [],
   "source": [
    "def attrition_rate_plot(col, target, data, ax=None):\n",
    "    \"\"\"Stacked bar chart of churn rate for `target` against \n",
    "    `col`. \n",
    "    \n",
    "    Args:\n",
    "        col (string): column name of feature variable\n",
    "        target (string): column name of target variable\n",
    "        data (pandas DataFrame): dataframe that contains columns \n",
    "            `col` and `target`\n",
    "        ax (matplotlib axes object, optional): matplotlib axes \n",
    "            object to attach plot to\n",
    "    \"\"\"\n",
    "    counts = (train[[target, col]]\n",
    "                  .groupby([target, col])\n",
    "                  .size()\n",
    "                  .unstack(target)\n",
    "             )\n",
    "    group_counts = counts.sum(axis='columns')\n",
    "    props = counts.div(group_counts, axis='index')\n",
    "\n",
    "    props.plot(kind=\"barh\", stacked=True, ax=ax, color = ['g', 'r'])\n",
    "    ax.invert_yaxis()\n",
    "    ax.legend().remove()"
   ]
  },
  {
   "cell_type": "code",
   "execution_count": 33,
   "metadata": {
    "colab": {},
    "colab_type": "code",
    "id": "zgCzfRE7gnZ9"
   },
   "outputs": [
    {
     "data": {
      "text/plain": [
       "141"
      ]
     },
     "execution_count": 33,
     "metadata": {},
     "output_type": "execute_result"
    }
   ],
   "source": [
    "len(train['TOP_PACK'].unique())"
   ]
  },
  {
   "cell_type": "code",
   "execution_count": 34,
   "metadata": {
    "colab": {},
    "colab_type": "code",
    "id": "X77HgfmZ8DU2"
   },
   "outputs": [
    {
     "data": {
      "image/png": "[encoded data removed]",
      "text/plain": [
       "<matplotlib.figure.Figure at 0x1d38d9582b0>"
      ]
     },
     "metadata": {},
     "output_type": "display_data"
    }
   ],
   "source": [
    "cols_to_plot = [\n",
    "    'REGION',\n",
    "    'TENURE'\n",
    "]\n",
    "\n",
    "fig, ax = plt.subplots(\n",
    "    len(cols_to_plot), 1, figsize=(11,11)\n",
    ")\n",
    "\n",
    "for idx, col in enumerate(cols_to_plot):\n",
    "    attrition_rate_plot(\n",
    "        col, 'CHURN', train, ax=ax[idx]\n",
    "    )\n",
    "\n",
    "ax[0].legend(\n",
    "    loc='lower center', bbox_to_anchor=(0.5, 1.05), title='Churn'\n",
    ")\n",
    "\n",
    "fig.tight_layout()"
   ]
  },
  {
   "cell_type": "markdown",
   "metadata": {
    "colab_type": "text",
    "id": "uDlOrJuR8DU5"
   },
   "source": [
    "It looks like customers with tenure between 12 and 15 months have the highest churn rate while new customers have the lowest.\n",
    "\n",
    "Now, let's look at the relationship between the recharge amount and the monthly revenue"
   ]
  },
  {
   "cell_type": "code",
   "execution_count": 35,
   "metadata": {
    "colab": {
     "base_uri": "https://localhost:8080/",
     "height": 102
    },
    "colab_type": "code",
    "id": "DS06PeKDwWke",
    "outputId": "e73de85a-8650-415f-e6c8-96fff74fe071"
   },
   "outputs": [
    {
     "data": {
      "text/plain": [
       "Index(['user_id', 'REGION', 'TENURE', 'TOPUP_AMT', 'RECHARGE_FREQ',\n",
       "       'TOTAL_INCOME', 'MONTHLY_INCOME', 'FREQUENCE', 'NO_OF_CONNECTIONS',\n",
       "       'ON_NET', 'ORANGE', 'TIGO', 'REGULARITY', 'TOP_PACK', 'FREQ_TOP_PACK',\n",
       "       'CHURN'],\n",
       "      dtype='object')"
      ]
     },
     "execution_count": 35,
     "metadata": {},
     "output_type": "execute_result"
    }
   ],
   "source": [
    "train.columns"
   ]
  },
  {
   "cell_type": "code",
   "execution_count": 36,
   "metadata": {
    "colab": {},
    "colab_type": "code",
    "id": "jBZpjHZL8DU6"
   },
   "outputs": [
    {
     "data": {
      "image/png": "[encoded data removed]",
      "text/plain": [
       "<matplotlib.figure.Figure at 0x1d38d9b8860>"
      ]
     },
     "metadata": {},
     "output_type": "display_data"
    }
   ],
   "source": [
    "# Set initial plot options\n",
    "sns.set_style('white')\n",
    "plt.figure(figsize = (14, 8))\n",
    "\n",
    "# Create scatterplot\n",
    "sns.scatterplot(x = \"TOPUP_AMT\", \n",
    "                y = \"TOTAL_INCOME\", \n",
    "                # Group by and change dot style and  by CHURN\n",
    "                hue = \"CHURN\",\n",
    "                size = \"CHURN\",  \n",
    "                style = \"CHURN\", \n",
    "                data = train, \n",
    "                # Change color of hue categories\n",
    "                palette = [\"r\", \"g\"],\n",
    "                alpha = 0.2)\n",
    "\n",
    "# Despine plot\n",
    "sns.despine()\n",
    "# Final formatting touches\n",
    "plt.xlabel(\"TOPUP_AMT\", fontsize = 12, fontweight = \"semibold\")\n",
    "plt.ylabel(\"TOTAL_INCOME\", fontsize = 12, fontweight = \"semibold\")\n",
    "plt.title(\"TOTAL_INCOME by TOTAL_INCOME\", fontsize = 14, fontweight = \"semibold\")\n",
    "plt.show()"
   ]
  },
  {
   "cell_type": "markdown",
   "metadata": {
    "colab_type": "text",
    "id": "FDiXVj0q8DU9"
   },
   "source": [
    "There seems to be some correlation between the two and also there's some outliers. Outliers can create bias in a model's performance. Should we keep them or remove them? I will let you decide."
   ]
  },
  {
   "cell_type": "markdown",
   "metadata": {
    "colab_type": "text",
    "id": "BDJODt8UhvQo"
   },
   "source": [
    "##### Check how the features are corelated to the target"
   ]
  },
  {
   "cell_type": "code",
   "execution_count": 37,
   "metadata": {
    "colab": {},
    "colab_type": "code",
    "id": "cFvl6KrkmWu4"
   },
   "outputs": [
    {
     "data": {
      "text/plain": [
       "CHURN                1.000000\n",
       "NO_OF_CONNECTIONS   -0.032422\n",
       "TIGO                -0.035668\n",
       "ON_NET              -0.058698\n",
       "ORANGE              -0.063400\n",
       "FREQ_TOP_PACK       -0.085106\n",
       "TOPUP_AMT           -0.105046\n",
       "TOTAL_INCOME        -0.114079\n",
       "MONTHLY_INCOME      -0.114079\n",
       "RECHARGE_FREQ       -0.123439\n",
       "FREQUENCE           -0.139363\n",
       "REGULARITY          -0.479991\n",
       "Name: CHURN, dtype: float64"
      ]
     },
     "execution_count": 37,
     "metadata": {},
     "output_type": "execute_result"
    }
   ],
   "source": [
    "train.corr()['CHURN'].sort_values(ascending=False)"
   ]
  },
  {
   "cell_type": "code",
   "execution_count": 38,
   "metadata": {
    "colab": {},
    "colab_type": "code",
    "id": "0_c1rv9Iht2n"
   },
   "outputs": [
    {
     "data": {
      "text/plain": [
       "<matplotlib.axes._subplots.AxesSubplot at 0x1d38e4832b0>"
      ]
     },
     "execution_count": 38,
     "metadata": {},
     "output_type": "execute_result"
    },
    {
     "data": {
      "image/png": "[encoded data removed]",
      "text/plain": [
       "<matplotlib.figure.Figure at 0x1d38df9c9e8>"
      ]
     },
     "metadata": {},
     "output_type": "display_data"
    }
   ],
   "source": [
    "train.corr()['CHURN'].sort_values(ascending=False).plot(kind='bar')"
   ]
  },
  {
   "cell_type": "code",
   "execution_count": 39,
   "metadata": {
    "colab": {},
    "colab_type": "code",
    "id": "lj1uHjJ5iiMA"
   },
   "outputs": [
    {
     "data": {
      "text/plain": [
       "<matplotlib.axes._subplots.AxesSubplot at 0x1d38e725438>"
      ]
     },
     "execution_count": 39,
     "metadata": {},
     "output_type": "execute_result"
    },
    {
     "data": {
      "image/png": "[encoded data removed]",
      "text/plain": [
       "<matplotlib.figure.Figure at 0x1d38e67ccf8>"
      ]
     },
     "metadata": {},
     "output_type": "display_data"
    }
   ],
   "source": [
    "sns.heatmap(data=train.corr())"
   ]
  },
  {
   "cell_type": "markdown",
   "metadata": {
    "colab_type": "text",
    "id": "XUGbkfNKjRht"
   },
   "source": [
    "##### # Monthly income is highly correlated to the total income. Both represent the same information but in different scales. Thus the need to drop one of them"
   ]
  },
  {
   "cell_type": "code",
   "execution_count": 40,
   "metadata": {
    "colab": {},
    "colab_type": "code",
    "id": "h8dblicKjBF9"
   },
   "outputs": [],
   "source": [
    "# Drop Total income\n",
    "train = train.drop('TOTAL_INCOME', axis=1)"
   ]
  },
  {
   "cell_type": "code",
   "execution_count": 41,
   "metadata": {
    "colab": {},
    "colab_type": "code",
    "id": "vfO9e552ltcM"
   },
   "outputs": [
    {
     "data": {
      "text/plain": [
       "Index(['user_id', 'REGION', 'TENURE', 'TOPUP_AMT', 'RECHARGE_FREQ',\n",
       "       'MONTHLY_INCOME', 'FREQUENCE', 'NO_OF_CONNECTIONS', 'ON_NET', 'ORANGE',\n",
       "       'TIGO', 'REGULARITY', 'TOP_PACK', 'FREQ_TOP_PACK', 'CHURN'],\n",
       "      dtype='object')"
      ]
     },
     "execution_count": 41,
     "metadata": {},
     "output_type": "execute_result"
    }
   ],
   "source": [
    "train.columns"
   ]
  },
  {
   "cell_type": "code",
   "execution_count": 42,
   "metadata": {
    "colab": {},
    "colab_type": "code",
    "id": "QHSPM0ialMq-"
   },
   "outputs": [],
   "source": [
    "# Add a new column thats average topup amount i.e. total top up amy  over the recharge frequency\n",
    "def average_topup_amt(df):\n",
    "  df['AVG_TOPUP_AMT'] = df['TOPUP_AMT'] / df['RECHARGE_FREQ']\n",
    "\n",
    "  return df"
   ]
  },
  {
   "cell_type": "code",
   "execution_count": 43,
   "metadata": {
    "colab": {},
    "colab_type": "code",
    "id": "xoZ1B0rcmF26"
   },
   "outputs": [],
   "source": [
    "train = average_topup_amt(train)\n",
    "test = average_topup_amt(test)"
   ]
  },
  {
   "cell_type": "code",
   "execution_count": 44,
   "metadata": {
    "colab": {},
    "colab_type": "code",
    "id": "DXrwLlqimoLk"
   },
   "outputs": [
    {
     "data": {
      "text/html": [
       "<div>\n",
       "<style scoped>\n",
       "    .dataframe tbody tr th:only-of-type {\n",
       "        vertical-align: middle;\n",
       "    }\n",
       "\n",
       "    .dataframe tbody tr th {\n",
       "        vertical-align: top;\n",
       "    }\n",
       "\n",
       "    .dataframe thead th {\n",
       "        text-align: right;\n",
       "    }\n",
       "</style>\n",
       "<table border=\"1\" class=\"dataframe\">\n",
       "  <thead>\n",
       "    <tr style=\"text-align: right;\">\n",
       "      <th></th>\n",
       "      <th>user_id</th>\n",
       "      <th>REGION</th>\n",
       "      <th>TENURE</th>\n",
       "      <th>TOPUP_AMT</th>\n",
       "      <th>RECHARGE_FREQ</th>\n",
       "      <th>MONTHLY_INCOME</th>\n",
       "      <th>FREQUENCE</th>\n",
       "      <th>NO_OF_CONNECTIONS</th>\n",
       "      <th>ON_NET</th>\n",
       "      <th>ORANGE</th>\n",
       "      <th>TIGO</th>\n",
       "      <th>REGULARITY</th>\n",
       "      <th>TOP_PACK</th>\n",
       "      <th>FREQ_TOP_PACK</th>\n",
       "      <th>CHURN</th>\n",
       "      <th>AVG_TOPUP_AMT</th>\n",
       "    </tr>\n",
       "  </thead>\n",
       "  <tbody>\n",
       "    <tr>\n",
       "      <th>0</th>\n",
       "      <td>00000bfd7d50f01092811bc0c8d7b0d6fe7c3596</td>\n",
       "      <td>FATICK</td>\n",
       "      <td>K &gt; 24 month</td>\n",
       "      <td>4250.0</td>\n",
       "      <td>15.0</td>\n",
       "      <td>1417.0</td>\n",
       "      <td>17.0</td>\n",
       "      <td>4.0</td>\n",
       "      <td>388.0</td>\n",
       "      <td>46.0</td>\n",
       "      <td>1.0</td>\n",
       "      <td>54</td>\n",
       "      <td>On net 200F=Unlimited _call24H</td>\n",
       "      <td>8.0</td>\n",
       "      <td>0</td>\n",
       "      <td>283.333333</td>\n",
       "    </tr>\n",
       "    <tr>\n",
       "      <th>1</th>\n",
       "      <td>00000cb4a5d760de88fecb38e2f71b7bec52e834</td>\n",
       "      <td>NaN</td>\n",
       "      <td>I 18-21 month</td>\n",
       "      <td>NaN</td>\n",
       "      <td>NaN</td>\n",
       "      <td>NaN</td>\n",
       "      <td>NaN</td>\n",
       "      <td>NaN</td>\n",
       "      <td>NaN</td>\n",
       "      <td>NaN</td>\n",
       "      <td>NaN</td>\n",
       "      <td>4</td>\n",
       "      <td>NaN</td>\n",
       "      <td>NaN</td>\n",
       "      <td>1</td>\n",
       "      <td>NaN</td>\n",
       "    </tr>\n",
       "    <tr>\n",
       "      <th>2</th>\n",
       "      <td>00001654a9d9f96303d9969d0a4a851714a4bb57</td>\n",
       "      <td>NaN</td>\n",
       "      <td>K &gt; 24 month</td>\n",
       "      <td>3600.0</td>\n",
       "      <td>2.0</td>\n",
       "      <td>340.0</td>\n",
       "      <td>2.0</td>\n",
       "      <td>NaN</td>\n",
       "      <td>90.0</td>\n",
       "      <td>46.0</td>\n",
       "      <td>7.0</td>\n",
       "      <td>17</td>\n",
       "      <td>On-net 1000F=10MilF;10d</td>\n",
       "      <td>1.0</td>\n",
       "      <td>0</td>\n",
       "      <td>1800.000000</td>\n",
       "    </tr>\n",
       "    <tr>\n",
       "      <th>3</th>\n",
       "      <td>00001dd6fa45f7ba044bd5d84937be464ce78ac2</td>\n",
       "      <td>DAKAR</td>\n",
       "      <td>K &gt; 24 month</td>\n",
       "      <td>13500.0</td>\n",
       "      <td>15.0</td>\n",
       "      <td>4501.0</td>\n",
       "      <td>18.0</td>\n",
       "      <td>43804.0</td>\n",
       "      <td>41.0</td>\n",
       "      <td>102.0</td>\n",
       "      <td>2.0</td>\n",
       "      <td>62</td>\n",
       "      <td>Data:1000F=5GB,7d</td>\n",
       "      <td>11.0</td>\n",
       "      <td>0</td>\n",
       "      <td>900.000000</td>\n",
       "    </tr>\n",
       "    <tr>\n",
       "      <th>4</th>\n",
       "      <td>000028d9e13a595abe061f9b58f3d76ab907850f</td>\n",
       "      <td>DAKAR</td>\n",
       "      <td>K &gt; 24 month</td>\n",
       "      <td>1000.0</td>\n",
       "      <td>1.0</td>\n",
       "      <td>328.0</td>\n",
       "      <td>1.0</td>\n",
       "      <td>NaN</td>\n",
       "      <td>39.0</td>\n",
       "      <td>24.0</td>\n",
       "      <td>NaN</td>\n",
       "      <td>11</td>\n",
       "      <td>Mixt 250F=Unlimited_call24H</td>\n",
       "      <td>2.0</td>\n",
       "      <td>0</td>\n",
       "      <td>1000.000000</td>\n",
       "    </tr>\n",
       "  </tbody>\n",
       "</table>\n",
       "</div>"
      ],
      "text/plain": [
       "                                    user_id  REGION         TENURE  TOPUP_AMT  \\\n",
       "0  00000bfd7d50f01092811bc0c8d7b0d6fe7c3596  FATICK   K > 24 month     4250.0   \n",
       "1  00000cb4a5d760de88fecb38e2f71b7bec52e834     NaN  I 18-21 month        NaN   \n",
       "2  00001654a9d9f96303d9969d0a4a851714a4bb57     NaN   K > 24 month     3600.0   \n",
       "3  00001dd6fa45f7ba044bd5d84937be464ce78ac2   DAKAR   K > 24 month    13500.0   \n",
       "4  000028d9e13a595abe061f9b58f3d76ab907850f   DAKAR   K > 24 month     1000.0   \n",
       "\n",
       "   RECHARGE_FREQ  MONTHLY_INCOME  FREQUENCE  NO_OF_CONNECTIONS  ON_NET  \\\n",
       "0           15.0          1417.0       17.0                4.0   388.0   \n",
       "1            NaN             NaN        NaN                NaN     NaN   \n",
       "2            2.0           340.0        2.0                NaN    90.0   \n",
       "3           15.0          4501.0       18.0            43804.0    41.0   \n",
       "4            1.0           328.0        1.0                NaN    39.0   \n",
       "\n",
       "   ORANGE  TIGO  REGULARITY                        TOP_PACK  FREQ_TOP_PACK  \\\n",
       "0    46.0   1.0          54  On net 200F=Unlimited _call24H            8.0   \n",
       "1     NaN   NaN           4                             NaN            NaN   \n",
       "2    46.0   7.0          17         On-net 1000F=10MilF;10d            1.0   \n",
       "3   102.0   2.0          62               Data:1000F=5GB,7d           11.0   \n",
       "4    24.0   NaN          11     Mixt 250F=Unlimited_call24H            2.0   \n",
       "\n",
       "   CHURN  AVG_TOPUP_AMT  \n",
       "0      0     283.333333  \n",
       "1      1            NaN  \n",
       "2      0    1800.000000  \n",
       "3      0     900.000000  \n",
       "4      0    1000.000000  "
      ]
     },
     "execution_count": 44,
     "metadata": {},
     "output_type": "execute_result"
    }
   ],
   "source": [
    "train.head()"
   ]
  },
  {
   "cell_type": "markdown",
   "metadata": {
    "colab_type": "text",
    "id": "BnRCbXNc8DU-"
   },
   "source": [
    "# BUILDING SOME MODELS"
   ]
  },
  {
   "cell_type": "markdown",
   "metadata": {
    "colab_type": "text",
    "id": "yu6igKVn8DU-"
   },
   "source": [
    "Let's train a model using the [logistic regression](https://scikit-learn.org/stable/modules/generated/sklearn.linear_model.LogisticRegression.html). We chose the logistic regression because it is fast and serve as a good baseline."
   ]
  },
  {
   "cell_type": "code",
   "execution_count": 61,
   "metadata": {
    "colab": {},
    "colab_type": "code",
    "id": "5A2Qh5_c8DU_"
   },
   "outputs": [],
   "source": [
    "from sklearn.preprocessing import StandardScaler\n",
    "from sklearn.impute import SimpleImputer\n",
    "from sklearn.compose import ColumnTransformer\n",
    "from sklearn.preprocessing import LabelEncoder, OneHotEncoder\n",
    "\n",
    "from sklearn.linear_model import LogisticRegression, RidgeClassifier\n",
    "from sklearn.ensemble import RandomForestClassifier\n",
    "from sklearn.svm import SVC, LinearSVC\n",
    "from sklearn.tree import DecisionTreeClassifier\n",
    "from sklearn.neighbors import KNeighborsClassifier\n",
    "from sklearn.ensemble import GradientBoostingClassifier\n",
    "from sklearn.preprocessing import OrdinalEncoder\n",
    "\n",
    "from sklearn.multioutput import MultiOutputClassifier\n",
    "\n",
    "from sklearn.pipeline import Pipeline\n",
    "\n",
    "from sklearn.model_selection import train_test_split\n",
    "\n",
    "from sklearn.metrics import roc_curve, roc_auc_score, log_loss\n",
    "\n",
    "RANDOM_SEED = 123    # Set a random seed for reproducibility!"
   ]
  },
  {
   "cell_type": "markdown",
   "metadata": {
    "colab_type": "text",
    "id": "QLQaq41L8DVE"
   },
   "source": [
    "Some models, including logistic regression, only work with numeric input for features. So we'll either have to drop the categorical features or transform them. We'll opt for the later since we want to capture as much as information as we can. To do this, we'll use a method called [one-hot encoding](https://scikit-learn.org/stable/modules/generated/sklearn.preprocessing.OneHotEncoder.html)."
   ]
  },
  {
   "cell_type": "markdown",
   "metadata": {
    "colab_type": "text",
    "id": "0aNHsrAc8DVE"
   },
   "source": [
    "We also need to do some preprocessing for the numeric features. We have to scale each numeric feature and the reason for that is because we are using [regularization](https://en.wikipedia.org/wiki/Regularization_(mathematics)). We will use the [StandardScaler](https://scikit-learn.org/stable/modules/generated/sklearn.preprocessing.StandardScaler.html), it transforms each feature such that its distribution has a mean value of 0 and a standard deviation of 1.\n",
    "\n",
    "Another issue we have to take care of is the missing values since logistic regression can't handle them. For that, we'll use theSimpleImputer (https://scikit-learn.org/stable/modules/generated/sklearn.impute.SimpleImputer.html) function.\n",
    "\n",
    "This is quite a lot of steps but not to worry, we'll use Scikit-Learn's built-in composition functionality to encapsulate everything into a pipeline. "
   ]
  },
  {
   "cell_type": "markdown",
   "metadata": {
    "colab_type": "text",
    "id": "CokNorLI8DVF"
   },
   "source": [
    "### Feature Preprocessing"
   ]
  },
  {
   "cell_type": "code",
   "execution_count": 46,
   "metadata": {
    "colab": {},
    "colab_type": "code",
    "id": "bjJ_hOSH8DVG"
   },
   "outputs": [],
   "source": [
    "numeric_cols = ['TOPUP_AMT', 'RECHARGE_FREQ', 'MONTHLY_INCOME', 'FREQUENCE',\n",
    "       'NO_OF_CONNECTIONS', 'ON_NET', 'ORANGE', 'TIGO', 'REGULARITY',\n",
    "       'FREQ_TOP_PACK', 'AVG_TOPUP_AMT']\n"
   ]
  },
  {
   "cell_type": "code",
   "execution_count": 47,
   "metadata": {
    "colab": {},
    "colab_type": "code",
    "id": "jsBhIAY38DVK"
   },
   "outputs": [],
   "source": [
    "# numeric_cols = ['MONTANT', 'FREQUENCE_RECH', 'REVENUE', 'ARPU_SEGMENT',\n",
    "#        'FREQUENCE', 'DATA_VOLUME', 'ON_NET', 'ORANGE', 'TIGO',\n",
    "#        'REGULARITY', 'FREQ_TOP_PACK']\n",
    "# print(numeric_cols)"
   ]
  },
  {
   "cell_type": "code",
   "execution_count": 48,
   "metadata": {
    "colab": {},
    "colab_type": "code",
    "id": "g4LCjSL58DVP"
   },
   "outputs": [
    {
     "data": {
      "text/plain": [
       "['REGION', 'TOP_PACK']"
      ]
     },
     "execution_count": 48,
     "metadata": {},
     "output_type": "execute_result"
    }
   ],
   "source": [
    "#categorical_cols = df.columns[df.dtypes == \"object\"].values\n",
    "categorical_cols = ['REGION', 'TOP_PACK']\n",
    "categorical_cols"
   ]
  },
  {
   "cell_type": "code",
   "execution_count": 49,
   "metadata": {
    "colab": {},
    "colab_type": "code",
    "id": "XImaRY9ankJm"
   },
   "outputs": [],
   "source": [
    "OneHotEncoder?"
   ]
  },
  {
   "cell_type": "code",
   "execution_count": 51,
   "metadata": {},
   "outputs": [],
   "source": [
    "# median = "
   ]
  },
  {
   "cell_type": "code",
   "execution_count": 59,
   "metadata": {
    "colab": {},
    "colab_type": "code",
    "id": "dhHC2zIo8DVV"
   },
   "outputs": [],
   "source": [
    "# chain preprocessing into a Pipeline object\n",
    "# each step is a tuple of (name you chose, sklearn transformer)\n",
    "numeric_preprocessing_steps = Pipeline([\n",
    "    ('simple_imputer', SimpleImputer(strategy='constant', fill_value=0, add_indicator = True)),\n",
    "    ('standard_scaler', StandardScaler())\n",
    "])\n",
    "\n",
    "categorical_preprocessing_steps = Pipeline([\n",
    "    ('simple_imputer', SimpleImputer(strategy='constant', fill_value='Missing', add_indicator = True)),\n",
    "    ('onehot', OneHotEncoder(handle_unknown='ignore'))\n",
    "])\n",
    "\n",
    "ordinal_preprocessing_steps = Pipeline([\n",
    "    ('simple_imputer', SimpleImputer(strategy='constant', fill_value='Missing', add_indicator = True)),\n",
    "    ('ordinal', OrdinalEncoder()),\n",
    "    ('standard_scaler', StandardScaler())\n",
    "])\n",
    "\n",
    "# create the preprocessor stage of final pipeline\n",
    "# each entry in the transformer list is a tuple of\n",
    "# (name you choose, sklearn transformer, list of columns)\n",
    "preprocessor = ColumnTransformer(\n",
    "    transformers = [\n",
    "        (\"numeric\", numeric_preprocessing_steps, numeric_cols),\n",
    "        ('categorical', categorical_preprocessing_steps, categorical_cols),\n",
    "        ('ordinal', ordinal_preprocessing_steps, ['TENURE'])\n",
    "    ],\n",
    "    remainder = \"drop\", verbose=True\n",
    ")"
   ]
  },
  {
   "cell_type": "markdown",
   "metadata": {
    "colab_type": "text",
    "id": "9JYmCZT78DVX"
   },
   "source": [
    "### Putting Together the Full Pipeline"
   ]
  },
  {
   "cell_type": "markdown",
   "metadata": {
    "colab_type": "text",
    "id": "iuKFreI18DVY"
   },
   "source": [
    "We put both the preprocessing functions and the estimatior into one Pipeline object, this allows to run the data through all the steps in one interface."
   ]
  },
  {
   "cell_type": "code",
   "execution_count": 53,
   "metadata": {
    "colab": {},
    "colab_type": "code",
    "id": "HXvoOgFZ8DVY"
   },
   "outputs": [],
   "source": [
    "# full_pipeline = Pipeline([\n",
    "#     (\"preprocessor\", preprocessor),\n",
    "#     (\"estimator\", LogisticRegression(random_state=123)\n",
    "# ),\n",
    "# ])"
   ]
  },
  {
   "cell_type": "code",
   "execution_count": 54,
   "metadata": {
    "colab": {},
    "colab_type": "code",
    "id": "wj0InLOe8DVk"
   },
   "outputs": [],
   "source": [
    "X_train, X_eval, y_train, y_eval = train_test_split(\n",
    "    train.drop(['user_id', 'CHURN'], axis = 1),\n",
    "    train.CHURN,\n",
    "    test_size=0.33,\n",
    "    shuffle=True,\n",
    "    stratify=train.CHURN,\n",
    "    random_state=RANDOM_SEED\n",
    ")"
   ]
  },
  {
   "cell_type": "code",
   "execution_count": 55,
   "metadata": {
    "colab": {
     "base_uri": "https://localhost:8080/",
     "height": 34
    },
    "colab_type": "code",
    "id": "Qy53rLoF0tP1",
    "outputId": "5bb72109-81c6-4e89-fadc-5acda1c57980"
   },
   "outputs": [
    {
     "data": {
      "text/plain": [
       "(1443212, 14)"
      ]
     },
     "execution_count": 55,
     "metadata": {},
     "output_type": "execute_result"
    }
   ],
   "source": [
    "X_train.shape"
   ]
  },
  {
   "cell_type": "code",
   "execution_count": null,
   "metadata": {
    "colab": {},
    "colab_type": "code",
    "id": "DlLzk7UmqpmL"
   },
   "outputs": [],
   "source": [
    "logistic_params = {'random_state': 123}\n",
    "\n",
    "logistic = LogisticRegression()\n",
    "\n",
    "pipe_logistic = Pipeline([(\"preprocessor\", preprocessor),\n",
    "                        (\"estimator\", logistic)])\n",
    "\n",
    "pipe_logistic.fit(X_train, y_train)\n",
    "\n",
    "preds = pipe_logistic.predict_proba(X_eval)\n",
    "\n",
    "log_loss(y_eval, preds[:, 1])"
   ]
  },
  {
   "cell_type": "code",
   "execution_count": null,
   "metadata": {
    "colab": {},
    "colab_type": "code",
    "id": "yamTuQrFrB_i"
   },
   "outputs": [],
   "source": [
    "# ridge_params = {'random_state': 2}\n",
    "\n",
    "# ridge = RidgeClassifier(**ridge_params)\n",
    "\n",
    "# pipe_ridge = Pipeline([(\"preprocessor\", preprocessor),\n",
    "#                         (\"estimator\", ridge)])\n",
    "\n",
    "# pipe_ridge.fit(X_train, y_train)\n",
    "\n",
    "# preds = pipe_ridge.predict_proba(X_eval)\n",
    "\n",
    "# log_loss(y_eval, preds[:, 1])"
   ]
  },
  {
   "cell_type": "code",
   "execution_count": null,
   "metadata": {
    "colab": {},
    "colab_type": "code",
    "id": "WCJabgPIrO31"
   },
   "outputs": [],
   "source": [
    "tree_params = {'random_state': RANDOM_SEED}\n",
    "\n",
    "tree = DecisionTreeClassifier(tree_params)\n",
    "\n",
    "pipe_tree = Pipeline([(\"preprocessor\", preprocessor),\n",
    "                      (\"estimator\", tree)])\n",
    "\n",
    "pipe_tree.fit(X_train, y_train)\n",
    "\n",
    "preds = pipe_tree.predict_proba(X_eval)\n",
    "\n",
    "log_loss(y_eval, preds[:, 1])"
   ]
  },
  {
   "cell_type": "code",
   "execution_count": null,
   "metadata": {
    "colab": {},
    "colab_type": "code",
    "id": "33QVJXcdrOwh"
   },
   "outputs": [],
   "source": [
    "knn_params = {'random_state': RANDOM_SEED}\n",
    "\n",
    "knn = KNeighborsRegressor(knn_params)\n",
    "\n",
    "pipe_knn = Pipeline([(\"preprocessor\", preprocessor),\n",
    "                     (\"estimator\", knn)])\n",
    "pipe_knn.fit(X_train, y_train)\n",
    "\n",
    "preds = pipe_knn.predict_proba(X_eval)\n",
    "\n",
    "log_loss(y_eval, preds[:, 1])"
   ]
  },
  {
   "cell_type": "code",
   "execution_count": null,
   "metadata": {
    "colab": {},
    "colab_type": "code",
    "id": "K54sY1WqrOrW"
   },
   "outputs": [],
   "source": [
    "forest_params = {'random_state': RANDOM_SEED}\n",
    "\n",
    "forest = RandomForestClassfier(forest_params)\n",
    "\n",
    "pipe_forest = Pipeline([(\"preprocessor\", preprocessor),\n",
    "                        (\"estimator\", forest)])\n",
    "\n",
    "pipe_forest.fit(X_train, y_train)\n",
    "\n",
    "preds = pipe_forest.predict_proba(X_eval)\n",
    "\n",
    "log_loss(y_eval, preds[:, 1])"
   ]
  },
  {
   "cell_type": "code",
   "execution_count": 60,
   "metadata": {
    "colab": {},
    "colab_type": "code",
    "id": "A6gCdnO2rOlX"
   },
   "outputs": [
    {
     "name": "stdout",
     "output_type": "stream",
     "text": [
      "[ColumnTransformer] ....... (1 of 3) Processing numeric, total=   2.1s\n",
      "[ColumnTransformer] ... (2 of 3) Processing categorical, total=   2.0s\n",
      "[ColumnTransformer] ....... (3 of 3) Processing ordinal, total=   0.5s\n"
     ]
    },
    {
     "ename": "NameError",
     "evalue": "name 'log_loss' is not defined",
     "output_type": "error",
     "traceback": [
      "\u001b[1;31m---------------------------------------------------------------------------\u001b[0m",
      "\u001b[1;31mNameError\u001b[0m                                 Traceback (most recent call last)",
      "\u001b[1;32m<ipython-input-60-3b07a17bfe95>\u001b[0m in \u001b[0;36m<module>\u001b[1;34m()\u001b[0m\n\u001b[0;32m     10\u001b[0m \u001b[0mpreds\u001b[0m \u001b[1;33m=\u001b[0m \u001b[0mpipe_gboost\u001b[0m\u001b[1;33m.\u001b[0m\u001b[0mpredict_proba\u001b[0m\u001b[1;33m(\u001b[0m\u001b[0mX_eval\u001b[0m\u001b[1;33m)\u001b[0m\u001b[1;33m\u001b[0m\u001b[0m\n\u001b[0;32m     11\u001b[0m \u001b[1;33m\u001b[0m\u001b[0m\n\u001b[1;32m---> 12\u001b[1;33m \u001b[0mlog_loss\u001b[0m\u001b[1;33m(\u001b[0m\u001b[0my_eval\u001b[0m\u001b[1;33m,\u001b[0m \u001b[0mpreds\u001b[0m\u001b[1;33m[\u001b[0m\u001b[1;33m:\u001b[0m\u001b[1;33m,\u001b[0m \u001b[1;36m1\u001b[0m\u001b[1;33m]\u001b[0m\u001b[1;33m)\u001b[0m\u001b[1;33m\u001b[0m\u001b[0m\n\u001b[0m",
      "\u001b[1;31mNameError\u001b[0m: name 'log_loss' is not defined"
     ]
    }
   ],
   "source": [
    "gboost_params = {'random_state': RANDOM_SEED, 'warm_start':True}\n",
    "\n",
    "gboost = GradientBoostingClassifier(**gboost_params)\n",
    "\n",
    "pipe_gboost = Pipeline([(\"preprocessor\", preprocessor),\n",
    "                        (\"gboost\", gboost)])\n",
    "\n",
    "pipe_gboost.fit(X_train, y_train)\n",
    "\n",
    "preds = pipe_gboost.predict_proba(X_eval)\n",
    "\n",
    "log_loss(y_eval, preds[:, 1])"
   ]
  },
  {
   "cell_type": "code",
   "execution_count": 62,
   "metadata": {},
   "outputs": [
    {
     "data": {
      "text/plain": [
       "0.252771853368933"
      ]
     },
     "execution_count": 62,
     "metadata": {},
     "output_type": "execute_result"
    }
   ],
   "source": [
    "log_loss(y_eval, preds[:, 1])"
   ]
  },
  {
   "cell_type": "code",
   "execution_count": null,
   "metadata": {
    "colab": {},
    "colab_type": "code",
    "id": "QKjLphzvrOfY"
   },
   "outputs": [
    {
     "name": "stdout",
     "output_type": "stream",
     "text": [
      "[ColumnTransformer] ....... (1 of 3) Processing numeric, total=   2.8s\n",
      "[ColumnTransformer] ... (2 of 3) Processing categorical, total=   2.6s\n",
      "[ColumnTransformer] ....... (3 of 3) Processing ordinal, total=   0.6s\n"
     ]
    }
   ],
   "source": [
    "svc_params = {'random_state': RANDOM_SEED}\n",
    "\n",
    "svc = SVC(**svc_params)\n",
    "\n",
    "pipe_svc = Pipeline([(\"preprocessor\", preprocessor),\n",
    "                     (\"svc\", svc)])\n",
    "\n",
    "pipe_svc.fit(X_train, y_train)\n",
    "\n",
    "preds = pipe_svc.predict_proba(X_eval)\n",
    "\n",
    "log_loss(y_eval, preds[:, 1])"
   ]
  },
  {
   "cell_type": "code",
   "execution_count": null,
   "metadata": {
    "colab": {},
    "colab_type": "code",
    "id": "xzHOc-Wqr-OD"
   },
   "outputs": [],
   "source": [
    "# lsvc_params = {'random_state': RANDOM_SEED}\n",
    "\n",
    "# lsvc = LinearSVC(lsvc_params)\n",
    "\n",
    "# pipe_lsvc = Pipeline([(\"preprocessor\", preprocessor),\n",
    "#                       (\"lsvc\", lsvc)])\n",
    "\n",
    "# pipe_lsvc.fit(X_train, y_train)\n",
    "\n",
    "# preds = pipe_lsvc.predict_proba(X_eval)\n",
    "\n",
    "# log_loss(y_eval, preds[:, 1])"
   ]
  },
  {
   "cell_type": "markdown",
   "metadata": {
    "colab_type": "text",
    "id": "rCMcWUKF8DVe"
   },
   "source": [
    "Let's check out the full pipeline."
   ]
  },
  {
   "cell_type": "code",
   "execution_count": null,
   "metadata": {
    "colab": {},
    "colab_type": "code",
    "id": "KBm0oeqJ8DVf"
   },
   "outputs": [],
   "source": [
    "# from sklearn import set_config\n",
    "\n",
    "# full_pipeline"
   ]
  },
  {
   "cell_type": "markdown",
   "metadata": {
    "colab_type": "text",
    "id": "OaDeruM68DVj"
   },
   "source": [
    "### Training and Evaluation"
   ]
  },
  {
   "cell_type": "markdown",
   "metadata": {
    "colab_type": "text",
    "id": "OGwMBHLR8DVk"
   },
   "source": [
    "Let's split the data into a training and evaluation set. We'll use a third of our data for evaluation. \n",
    "\n",
    "Recall that we have an imbalanced dataset, so we'll use the stratify argument to enforce even splits."
   ]
  },
  {
   "cell_type": "code",
   "execution_count": null,
   "metadata": {
    "colab": {},
    "colab_type": "code",
    "id": "UUtZXYCI8DVn",
    "scrolled": true
   },
   "outputs": [],
   "source": [
    "%%time\n",
    "\n",
    "# Train model\n",
    "# full_pipeline.fit(X_train, y_train)\n",
    "\n",
    "# Predict on evaluation set\n",
    "# This competition wants probabilities, not labels\n",
    "# preds = full_pipeline.predict_proba(X_eval)\n",
    "# preds"
   ]
  },
  {
   "cell_type": "code",
   "execution_count": null,
   "metadata": {
    "colab": {},
    "colab_type": "code",
    "id": "1Rl_3dP38DVp"
   },
   "outputs": [],
   "source": [
    "# from sklearn.metrics import log_loss"
   ]
  },
  {
   "cell_type": "markdown",
   "metadata": {
    "colab_type": "text",
    "id": "1JWbFLQ38DWc"
   },
   "source": [
    "The competition uses the [Log loss](https://scikit-learn.org/stable/modules/generated/sklearn.metrics.log_loss.html) as the evaluation metric, so let's check how our model did on the evaluation set."
   ]
  },
  {
   "cell_type": "markdown",
   "metadata": {
    "colab_type": "text",
    "id": "pK0vdsa28DWh"
   },
   "source": [
    "The estimator spits out the probabilities for each class(0 and 1). We are interested in the second column, that is the probability of churn,so let's grab it."
   ]
  },
  {
   "cell_type": "code",
   "execution_count": null,
   "metadata": {
    "colab": {},
    "colab_type": "code",
    "id": "O2hqtsSf8DWi"
   },
   "outputs": [],
   "source": [
    "# log_loss(y_eval, preds[:, 1])"
   ]
  },
  {
   "cell_type": "code",
   "execution_count": null,
   "metadata": {
    "colab": {},
    "colab_type": "code",
    "id": "2siHu_RlEfMs"
   },
   "outputs": [],
   "source": [
    "!pip install scikit-plot"
   ]
  },
  {
   "cell_type": "code",
   "execution_count": null,
   "metadata": {
    "colab": {},
    "colab_type": "code",
    "id": "ImKWzVpV8DWr"
   },
   "outputs": [],
   "source": [
    "import scipy as sp\n",
    "import scikitplot as skplt"
   ]
  },
  {
   "cell_type": "code",
   "execution_count": null,
   "metadata": {
    "colab": {},
    "colab_type": "code",
    "id": "IDGY2E8S8DWx"
   },
   "outputs": [],
   "source": [
    "print('Confusion matrix:\\n', skplt.metrics.plot_confusion_matrix(y_eval, preds[:, 1].round()))"
   ]
  },
  {
   "cell_type": "markdown",
   "metadata": {
    "colab_type": "text",
    "id": "QiV6vzyY8DW1"
   },
   "source": [
    "### Retrain Model on Full Dataset"
   ]
  },
  {
   "cell_type": "markdown",
   "metadata": {
    "colab_type": "text",
    "id": "8UiYdPI48DW2"
   },
   "source": [
    "Now that we have an idea of how the model performs, let's retrain on the full training set"
   ]
  },
  {
   "cell_type": "code",
   "execution_count": null,
   "metadata": {
    "colab": {},
    "colab_type": "code",
    "id": "mWx3ogw18DW2"
   },
   "outputs": [],
   "source": [
    "%%time \n",
    "\n",
    "# full_pipeline.fit(train.drop(['user_id', 'CHURN'], axis = 1), train.CHURN)\n",
    "\n",
    "None   # So we don't print out the whole pipeline representation"
   ]
  },
  {
   "cell_type": "markdown",
   "metadata": {
    "colab_type": "text",
    "id": "NdlVXYzP8DW9"
   },
   "source": [
    "# GENERATING THE PREDICTIONS FOR THE TEST SET"
   ]
  },
  {
   "cell_type": "markdown",
   "metadata": {
    "colab_type": "text",
    "id": "36C3ACPq8DW_"
   },
   "source": [
    "Let's make predictions on the test set! Remember, for this competition, we want the probabilities, not the binary label predictions. So just like we did earlier, we'll use the .predict_proba method to get those."
   ]
  },
  {
   "cell_type": "code",
   "execution_count": 63,
   "metadata": {
    "colab": {},
    "colab_type": "code",
    "id": "pFq-DA2O8DXA"
   },
   "outputs": [
    {
     "name": "stderr",
     "output_type": "stream",
     "text": [
      "C:\\Users\\Kelvin Kinda\\Anaconda3\\lib\\site-packages\\sklearn\\compose\\_column_transformer.py:430: FutureWarning: Given feature/column names or counts do not match the ones for the data given during fit. This will fail from v0.24.\n",
      "  FutureWarning)\n"
     ]
    },
    {
     "data": {
      "text/plain": [
       "array([[0.99733321, 0.00266679],\n",
       "       [0.91379192, 0.08620808],\n",
       "       [0.99848714, 0.00151286],\n",
       "       ...,\n",
       "       [0.75360298, 0.24639702],\n",
       "       [0.82168889, 0.17831111],\n",
       "       [0.99029157, 0.00970843]])"
      ]
     },
     "execution_count": 63,
     "metadata": {},
     "output_type": "execute_result"
    }
   ],
   "source": [
    "test_probas = pipe_gboost.predict_proba(test.drop('user_id', axis = 1))\n",
    "test_probas"
   ]
  },
  {
   "cell_type": "markdown",
   "metadata": {
    "colab_type": "text",
    "id": "t3VFofqC8DXN"
   },
   "source": [
    "Let's use the submission file to submit the predicted values."
   ]
  },
  {
   "cell_type": "code",
   "execution_count": 65,
   "metadata": {
    "colab": {},
    "colab_type": "code",
    "id": "MyAiW2cc8DXN"
   },
   "outputs": [
    {
     "data": {
      "text/html": [
       "<div>\n",
       "<style scoped>\n",
       "    .dataframe tbody tr th:only-of-type {\n",
       "        vertical-align: middle;\n",
       "    }\n",
       "\n",
       "    .dataframe tbody tr th {\n",
       "        vertical-align: top;\n",
       "    }\n",
       "\n",
       "    .dataframe thead th {\n",
       "        text-align: right;\n",
       "    }\n",
       "</style>\n",
       "<table border=\"1\" class=\"dataframe\">\n",
       "  <thead>\n",
       "    <tr style=\"text-align: right;\">\n",
       "      <th></th>\n",
       "      <th>user_id</th>\n",
       "      <th>CHURN</th>\n",
       "    </tr>\n",
       "  </thead>\n",
       "  <tbody>\n",
       "    <tr>\n",
       "      <th>0</th>\n",
       "      <td>00001dbe00e56fc4b1c1b65dda63de2a5ece55f9</td>\n",
       "      <td>0</td>\n",
       "    </tr>\n",
       "    <tr>\n",
       "      <th>1</th>\n",
       "      <td>000055d41c8a62052dd426592e8a4a3342bf565d</td>\n",
       "      <td>0</td>\n",
       "    </tr>\n",
       "    <tr>\n",
       "      <th>2</th>\n",
       "      <td>000081dd3245e6869a4a9c574c7050e7bb84c2c8</td>\n",
       "      <td>0</td>\n",
       "    </tr>\n",
       "    <tr>\n",
       "      <th>3</th>\n",
       "      <td>0000b76d2145d9445d9ff6b65c9ebc4196c89337</td>\n",
       "      <td>0</td>\n",
       "    </tr>\n",
       "    <tr>\n",
       "      <th>4</th>\n",
       "      <td>0000bae5480628cf8fe51ad84bcb39772fc79224</td>\n",
       "      <td>0</td>\n",
       "    </tr>\n",
       "  </tbody>\n",
       "</table>\n",
       "</div>"
      ],
      "text/plain": [
       "                                    user_id  CHURN\n",
       "0  00001dbe00e56fc4b1c1b65dda63de2a5ece55f9      0\n",
       "1  000055d41c8a62052dd426592e8a4a3342bf565d      0\n",
       "2  000081dd3245e6869a4a9c574c7050e7bb84c2c8      0\n",
       "3  0000b76d2145d9445d9ff6b65c9ebc4196c89337      0\n",
       "4  0000bae5480628cf8fe51ad84bcb39772fc79224      0"
      ]
     },
     "execution_count": 65,
     "metadata": {},
     "output_type": "execute_result"
    }
   ],
   "source": [
    "submission_df = pd.read_csv('SampleSubmission.csv')\n",
    "submission_df.head()"
   ]
  },
  {
   "cell_type": "markdown",
   "metadata": {
    "colab_type": "text",
    "id": "kCu-x2dB8DXR"
   },
   "source": [
    "We want to replace those 0s with our predictions. But first, we need to make sure that the rows of the submission file are in the same order as the test file. "
   ]
  },
  {
   "cell_type": "code",
   "execution_count": 66,
   "metadata": {
    "colab": {},
    "colab_type": "code",
    "id": "pJTLvT-c8DXR"
   },
   "outputs": [],
   "source": [
    "# Make sure we have the rows in the same order\n",
    "np.testing.assert_array_equal(test.index.values, \n",
    "                              submission_df.index.values)"
   ]
  },
  {
   "cell_type": "markdown",
   "metadata": {
    "colab_type": "text",
    "id": "TcEKXYKS8DXx"
   },
   "source": [
    "Nothing happended, so we're good. We can safely can drop in the estimated values in the 'CHURN' column."
   ]
  },
  {
   "cell_type": "code",
   "execution_count": 67,
   "metadata": {
    "colab": {},
    "colab_type": "code",
    "id": "F7__zW6D8DXz"
   },
   "outputs": [
    {
     "data": {
      "text/html": [
       "<div>\n",
       "<style scoped>\n",
       "    .dataframe tbody tr th:only-of-type {\n",
       "        vertical-align: middle;\n",
       "    }\n",
       "\n",
       "    .dataframe tbody tr th {\n",
       "        vertical-align: top;\n",
       "    }\n",
       "\n",
       "    .dataframe thead th {\n",
       "        text-align: right;\n",
       "    }\n",
       "</style>\n",
       "<table border=\"1\" class=\"dataframe\">\n",
       "  <thead>\n",
       "    <tr style=\"text-align: right;\">\n",
       "      <th></th>\n",
       "      <th>user_id</th>\n",
       "      <th>CHURN</th>\n",
       "    </tr>\n",
       "  </thead>\n",
       "  <tbody>\n",
       "    <tr>\n",
       "      <th>0</th>\n",
       "      <td>00001dbe00e56fc4b1c1b65dda63de2a5ece55f9</td>\n",
       "      <td>0.002667</td>\n",
       "    </tr>\n",
       "    <tr>\n",
       "      <th>1</th>\n",
       "      <td>000055d41c8a62052dd426592e8a4a3342bf565d</td>\n",
       "      <td>0.086208</td>\n",
       "    </tr>\n",
       "    <tr>\n",
       "      <th>2</th>\n",
       "      <td>000081dd3245e6869a4a9c574c7050e7bb84c2c8</td>\n",
       "      <td>0.001513</td>\n",
       "    </tr>\n",
       "    <tr>\n",
       "      <th>3</th>\n",
       "      <td>0000b76d2145d9445d9ff6b65c9ebc4196c89337</td>\n",
       "      <td>0.403390</td>\n",
       "    </tr>\n",
       "    <tr>\n",
       "      <th>4</th>\n",
       "      <td>0000bae5480628cf8fe51ad84bcb39772fc79224</td>\n",
       "      <td>0.385140</td>\n",
       "    </tr>\n",
       "  </tbody>\n",
       "</table>\n",
       "</div>"
      ],
      "text/plain": [
       "                                    user_id     CHURN\n",
       "0  00001dbe00e56fc4b1c1b65dda63de2a5ece55f9  0.002667\n",
       "1  000055d41c8a62052dd426592e8a4a3342bf565d  0.086208\n",
       "2  000081dd3245e6869a4a9c574c7050e7bb84c2c8  0.001513\n",
       "3  0000b76d2145d9445d9ff6b65c9ebc4196c89337  0.403390\n",
       "4  0000bae5480628cf8fe51ad84bcb39772fc79224  0.385140"
      ]
     },
     "execution_count": 67,
     "metadata": {},
     "output_type": "execute_result"
    }
   ],
   "source": [
    "# Save predictions to submission data frame\n",
    "submission_df[\"CHURN\"] = test_probas[:, 1]\n",
    "\n",
    "submission_df.head()"
   ]
  },
  {
   "cell_type": "code",
   "execution_count": 68,
   "metadata": {
    "colab": {},
    "colab_type": "code",
    "id": "6BvUZJkF8DYB"
   },
   "outputs": [],
   "source": [
    "submission_df.to_csv('GradientBoosting.csv', index=False)"
   ]
  },
  {
   "cell_type": "code",
   "execution_count": null,
   "metadata": {
    "colab": {},
    "colab_type": "code",
    "id": "ooZxdTDM8DYO"
   },
   "outputs": [],
   "source": [
    "!head LogisticRegression.csv"
   ]
  },
  {
   "cell_type": "markdown",
   "metadata": {
    "colab_type": "text",
    "id": "VgHe72Hk8DYX"
   },
   "source": [
    "Now, let's on head on over to [Zindi](https://zindi.africa/hackathons/umojahack-rwanda-expresso-churn-prediction-challenge) and make our submission."
   ]
  },
  {
   "cell_type": "markdown",
   "metadata": {
    "colab_type": "text",
    "id": "NQTOjin_8DYf"
   },
   "source": [
    "# Things to try"
   ]
  },
  {
   "cell_type": "markdown",
   "metadata": {
    "colab_type": "text",
    "id": "OU51-HuI8DYf"
   },
   "source": [
    "* [GridSearchCV](https://scikit-learn.org/stable/modules/generated/sklearn.model_selection.GridSearchCV.html) to find optimal hyper parameters. If you do chose to use gridsearch, I suggest splitting the dataset into small portions since the it is so large\n",
    "* Mean target encoding\n",
    "* [Principal component analysis](https://scikit-learn.org/stable/modules/generated/sklearn.decomposition.PCA.html) (PCA)\n",
    "* Removing outliers\n",
    "* Try different algorithms"
   ]
  }
 ],
 "metadata": {
  "colab": {
   "collapsed_sections": [
    "QiV6vzyY8DW1"
   ],
   "name": "starter_nb_umoja_rw.ipynb",
   "provenance": []
  },
  "kernelspec": {
   "display_name": "Python 3",
   "language": "python",
   "name": "python3"
  },
  "language_info": {
   "codemirror_mode": {
    "name": "ipython",
    "version": 3
   },
   "file_extension": ".py",
   "mimetype": "text/x-python",
   "name": "python",
   "nbconvert_exporter": "python",
   "pygments_lexer": "ipython3",
   "version": "3.6.4"
  }
 },
 "nbformat": 4,
 "nbformat_minor": 1
}
