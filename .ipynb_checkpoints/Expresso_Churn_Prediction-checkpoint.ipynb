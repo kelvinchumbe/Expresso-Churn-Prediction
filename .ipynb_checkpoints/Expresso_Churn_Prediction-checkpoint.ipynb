{
 "cells": [
  {
   "cell_type": "code",
   "execution_count": null,
   "metadata": {
    "colab": {},
    "colab_type": "code",
    "id": "QBR4wMY5b74N"
   },
   "outputs": [],
   "source": [
    "# import required dependecies\n",
    "import pandas as pd\n",
    "import numpy as np\n",
    "import matplotlib.pyplot as plt\n",
    "import seaborn as sns\n",
    "sns.set()\n",
    "\n",
    "%matplotlib inline"
   ]
  },
  {
   "cell_type": "code",
   "execution_count": null,
   "metadata": {
    "colab": {},
    "colab_type": "code",
    "id": "g69KlsuCcMMG"
   },
   "outputs": [],
   "source": [
    "# Set display options\n",
    "pd.set_option(\"display.max_columns\", 300)\n",
    "pd.set_option(\"display.max_rows\", 300)"
   ]
  },
  {
   "cell_type": "code",
   "execution_count": null,
   "metadata": {
    "colab": {},
    "colab_type": "code",
    "id": "jvB66tWid48q"
   },
   "outputs": [],
   "source": []
  },
  {
   "cell_type": "markdown",
   "metadata": {
    "colab_type": "text",
    "id": "Zqe2rxKZeJhD"
   },
   "source": [
    "### Column Transformations"
   ]
  },
  {
   "cell_type": "code",
   "execution_count": null,
   "metadata": {
    "colab": {},
    "colab_type": "code",
    "id": "9Pw5oMHyeHCm"
   },
   "outputs": [],
   "source": []
  },
  {
   "cell_type": "markdown",
   "metadata": {
    "colab_type": "text",
    "id": "VFSJUA88eswM"
   },
   "source": [
    "### Build the Models"
   ]
  },
  {
   "cell_type": "code",
   "execution_count": null,
   "metadata": {
    "colab": {},
    "colab_type": "code",
    "id": "GvO4nu6Ueu9o"
   },
   "outputs": [],
   "source": [
    "from sklearn.model_selection import train_test_split\n",
    "\n",
    "X_train, X_test, y_train, y_test = train_test_split(X, y, test_size=0.2, random_state=0)"
   ]
  },
  {
   "cell_type": "code",
   "execution_count": null,
   "metadata": {
    "colab": {},
    "colab_type": "code",
    "id": "ZgjYpfcHe6_9"
   },
   "outputs": [],
   "source": [
    "from sklearn.linear_model import LinearRegression\n",
    "from sklearn.linear_model import Ridge\n",
    "from sklearn.tree import DecisionTreeRegressor\n",
    "from sklearn.neighbors import KNeighborsRegressor\n",
    "from sklearn.ensemble import RandomForestRegressor, GradientBoostingRegressor\n",
    "from sklearn.svm import SVR, LinearSVR\n",
    "from sklearn.metrics import log_loss"
   ]
  },
  {
   "cell_type": "code",
   "execution_count": null,
   "metadata": {
    "colab": {},
    "colab_type": "code",
    "id": "3Ldup3B8rue-"
   },
   "outputs": [],
   "source": [
    "!"
   ]
  },
  {
   "cell_type": "code",
   "execution_count": null,
   "metadata": {
    "colab": {},
    "colab_type": "code",
    "id": "TSWJajrkn3Ms"
   },
   "outputs": [],
   "source": [
    "# Create a scoring function\n",
    "def score_func(y_test, y_preds):\n",
    "  return log_loss(y_test, y_preds)\n"
   ]
  },
  {
   "cell_type": "markdown",
   "metadata": {
    "colab_type": "text",
    "id": "s3YxEEVEfQ2h"
   },
   "source": [
    "##### Linear Regression"
   ]
  },
  {
   "cell_type": "code",
   "execution_count": null,
   "metadata": {
    "colab": {},
    "colab_type": "code",
    "id": "hLPEoRPafAeJ"
   },
   "outputs": [],
   "source": [
    "linear_params = {}\n",
    "\n",
    "linear = LinearRegression(linear_params)\n",
    "\n",
    "pipe_linear = Pipeline([(\"linear\", linear)])\n",
    "pipe_linear.fit(X_train, y_train)\n",
    "\n",
    "y_preds = pipe_linear.predict(X_test)\n",
    "\n",
    "print(log_loss(y_test, y_preds))"
   ]
  },
  {
   "cell_type": "markdown",
   "metadata": {
    "colab_type": "text",
    "id": "qu9FrAL5hPTz"
   },
   "source": [
    "##### Ridge"
   ]
  },
  {
   "cell_type": "code",
   "execution_count": null,
   "metadata": {
    "colab": {},
    "colab_type": "code",
    "id": "I1R--l6dhRs6"
   },
   "outputs": [],
   "source": [
    "ridge_params = {}\n",
    "\n",
    "ridge = Ridge(ridge_params)\n",
    "\n",
    "pipe_ridge = Pipeline([(\"ridge\", ridge)])\n",
    "pipe_ridge.fit(X_train, y_train)\n",
    "\n",
    "y_preds = pipe_ridge.predict(X_test)\n",
    "\n",
    "print(log_loss(y_test, y_preds))"
   ]
  },
  {
   "cell_type": "markdown",
   "metadata": {
    "colab_type": "text",
    "id": "MWZbxmWjibfS"
   },
   "source": [
    "##### Decision Tree"
   ]
  },
  {
   "cell_type": "code",
   "execution_count": null,
   "metadata": {
    "colab": {},
    "colab_type": "code",
    "id": "WP3a_CcGieNq"
   },
   "outputs": [],
   "source": [
    "tree_params = {}\n",
    "\n",
    "tree = DecisionTreeRegressor(tree_params)\n",
    "\n",
    "pipe_tree = Pipeline([(\"tree\", tree)])\n",
    "pipe_tree.fit(X_train, y_train)\n",
    "\n",
    "y_preds = pipe_tree.predict(X_test)\n",
    "\n",
    "print(log_loss(y_test, y_preds))"
   ]
  },
  {
   "cell_type": "markdown",
   "metadata": {
    "colab_type": "text",
    "id": "KL88xnZzkHEW"
   },
   "source": [
    "##### KNN"
   ]
  },
  {
   "cell_type": "code",
   "execution_count": null,
   "metadata": {
    "colab": {},
    "colab_type": "code",
    "id": "ptI7FVj0kL0j"
   },
   "outputs": [],
   "source": [
    "knn_params = {}\n",
    "\n",
    "knn = KNeighborsRegressor(knn_params)\n",
    "\n",
    "pipe_knn = Pipeline([(\"knn\", knn)])\n",
    "pipe_knn.fit(X_train, y_train)\n",
    "\n",
    "y_preds = pipe_knn.predict(X_test)\n",
    "\n",
    "print(log_loss(y_test, y_preds))"
   ]
  },
  {
   "cell_type": "markdown",
   "metadata": {
    "colab_type": "text",
    "id": "x1bQdrxwlaAa"
   },
   "source": [
    "##### Random Forest"
   ]
  },
  {
   "cell_type": "code",
   "execution_count": null,
   "metadata": {
    "colab": {},
    "colab_type": "code",
    "id": "-MtaKtZ4lcsX"
   },
   "outputs": [],
   "source": [
    "forest_params = {}\n",
    "\n",
    "forest = RandomForestRegressor(forest_params)\n",
    "\n",
    "pipe_forest = Pipeline([(\"forest\", forest)])\n",
    "pipe_forest.fit(X_train, y_train)\n",
    "\n",
    "y_preds = pipe_forest.predict(X_test)\n",
    "\n",
    "print(log_loss(y_test, y_preds))"
   ]
  },
  {
   "cell_type": "markdown",
   "metadata": {
    "colab_type": "text",
    "id": "LjGOH-BOmsSG"
   },
   "source": [
    "##### Gradient Boosting"
   ]
  },
  {
   "cell_type": "code",
   "execution_count": null,
   "metadata": {
    "colab": {},
    "colab_type": "code",
    "id": "rt0zQKvTmwX6"
   },
   "outputs": [],
   "source": [
    "gboost_params = {}\n",
    "\n",
    "gboost = GradientBoostingRegressor(gboost_params)\n",
    "\n",
    "pipe_gboost = Pipeline([(\"gboost\", gboost)])\n",
    "pipe_gboost.fit(X_train, y_train)\n",
    "\n",
    "y_preds = pipe_gboost.predict(X_test)\n",
    "\n",
    "print(log_loss(y_test, y_preds))"
   ]
  },
  {
   "cell_type": "markdown",
   "metadata": {
    "colab_type": "text",
    "id": "spdIflSjndIW"
   },
   "source": [
    "##### SVR"
   ]
  },
  {
   "cell_type": "code",
   "execution_count": null,
   "metadata": {
    "colab": {},
    "colab_type": "code",
    "id": "Nj3d9nXynezm"
   },
   "outputs": [],
   "source": [
    "svr_params = {}\n",
    "\n",
    "svr = SVR(svr_params)\n",
    "\n",
    "pipe_svr = Pipeline([(\"svr\", svr)])\n",
    "pipe_svr.fit(X_train, y_train)\n",
    "\n",
    "y_preds = pipe_svr.predict(X_test)\n",
    "\n",
    "print(log_loss(y_test, y_preds))"
   ]
  },
  {
   "cell_type": "markdown",
   "metadata": {
    "colab_type": "text",
    "id": "M1bNzwhGqTBS"
   },
   "source": [
    "##### Linear SVR"
   ]
  },
  {
   "cell_type": "code",
   "execution_count": null,
   "metadata": {
    "colab": {},
    "colab_type": "code",
    "id": "u-EblEznqYLP"
   },
   "outputs": [],
   "source": [
    "lsvr_params = {}\n",
    "\n",
    "lsvr = LinearSVR(lsvr_params)\n",
    "\n",
    "pipe_lsvr = Pipeline([(\"lsvr\", lsvr)])\n",
    "pipe_lsvr.fit(X_train, y_train)\n",
    "\n",
    "y_preds = pipe_lsvr.predict(X_test)\n",
    "\n",
    "print(log_loss(y_test, y_preds))"
   ]
  },
  {
   "cell_type": "markdown",
   "metadata": {
    "colab_type": "text",
    "id": "zCxJ9hU-rG4D"
   },
   "source": []
  }
 ],
 "metadata": {
  "colab": {
   "name": "Expresso_Churn_Prediction",
   "provenance": []
  },
  "kernelspec": {
   "display_name": "Python 3",
   "language": "python",
   "name": "python3"
  },
  "language_info": {
   "codemirror_mode": {
    "name": "ipython",
    "version": 3
   },
   "file_extension": ".py",
   "mimetype": "text/x-python",
   "name": "python",
   "nbconvert_exporter": "python",
   "pygments_lexer": "ipython3",
   "version": "3.6.4"
  }
 },
 "nbformat": 4,
 "nbformat_minor": 1
}
